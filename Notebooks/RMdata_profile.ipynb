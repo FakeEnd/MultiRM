{
 "cells": [
  {
   "cell_type": "code",
   "execution_count": 1,
   "metadata": {},
   "outputs": [],
   "source": [
    "import h5py\n",
    "import pandas as pd"
   ]
  },
  {
   "cell_type": "code",
   "execution_count": 2,
   "metadata": {},
   "outputs": [],
   "source": [
    "datapath = \"../Data/data_12RM.h5\""
   ]
  },
  {
   "cell_type": "code",
   "execution_count": 3,
   "metadata": {},
   "outputs": [],
   "source": [
    "data = h5py.File(datapath,'r')"
   ]
  },
  {
   "cell_type": "markdown",
   "metadata": {},
   "source": [
    "# Available keys"
   ]
  },
  {
   "cell_type": "code",
   "execution_count": 4,
   "metadata": {},
   "outputs": [
    {
     "data": {
      "text/plain": [
       "<KeysViewHDF5 ['test_in', 'test_in_3_mers', 'test_in_nucleo', 'test_out', 'train_in', 'train_in_3_mers', 'train_in_nucleo', 'train_out', 'valid_in', 'valid_in_3_mers', 'valid_in_nucleo', 'valid_out']>"
      ]
     },
     "execution_count": 4,
     "metadata": {},
     "output_type": "execute_result"
    }
   ],
   "source": [
    "data.keys()"
   ]
  },
  {
   "cell_type": "markdown",
   "metadata": {},
   "source": [
    "# Onehot data"
   ]
  },
  {
   "cell_type": "code",
   "execution_count": 5,
   "metadata": {},
   "outputs": [
    {
     "name": "stdout",
     "output_type": "stream",
     "text": [
      "<class 'pandas.core.frame.DataFrame'>\n",
      "Int64Index: 304661 entries, 0 to 304660\n",
      "Columns: 4004 entries, V1 to V4004\n",
      "dtypes: float64(4004)\n",
      "memory usage: 9.1 GB\n"
     ]
    }
   ],
   "source": [
    "train_in = pd.read_hdf(datapath,\"train_in\")\n",
    "train_in.info()"
   ]
  },
  {
   "cell_type": "code",
   "execution_count": 6,
   "metadata": {},
   "outputs": [
    {
     "name": "stdout",
     "output_type": "stream",
     "text": [
      "<class 'pandas.core.frame.DataFrame'>\n",
      "Int64Index: 304661 entries, 0 to 304660\n",
      "Data columns (total 12 columns):\n",
      " #   Column  Non-Null Count   Dtype  \n",
      "---  ------  --------------   -----  \n",
      " 0   hAm     304661 non-null  float64\n",
      " 1   hCm     304661 non-null  float64\n",
      " 2   hGm     304661 non-null  float64\n",
      " 3   hTm     304661 non-null  float64\n",
      " 4   hm1A    304661 non-null  float64\n",
      " 5   hm5C    304661 non-null  float64\n",
      " 6   hm5U    304661 non-null  float64\n",
      " 7   hm6A    304661 non-null  float64\n",
      " 8   hm6Am   304661 non-null  float64\n",
      " 9   hm7G    304661 non-null  float64\n",
      " 10  hPsi    304661 non-null  float64\n",
      " 11  Atol    304661 non-null  float64\n",
      "dtypes: float64(12)\n",
      "memory usage: 30.2 MB\n"
     ]
    }
   ],
   "source": [
    "train_out = pd.read_hdf(datapath,\"train_out\")\n",
    "train_out.info()"
   ]
  },
  {
   "cell_type": "markdown",
   "metadata": {},
   "source": [
    "# 3-mers data"
   ]
  },
  {
   "cell_type": "code",
   "execution_count": 7,
   "metadata": {},
   "outputs": [
    {
     "name": "stdout",
     "output_type": "stream",
     "text": [
      "<class 'pandas.core.frame.DataFrame'>\n",
      "Int64Index: 304661 entries, 0 to 304660\n",
      "Columns: 999 entries, Comp1 to Comp999\n",
      "dtypes: float64(2), int64(997)\n",
      "memory usage: 2.3 GB\n"
     ]
    }
   ],
   "source": [
    "train_in = pd.read_hdf(datapath,\"train_in_3_mers\")\n",
    "train_in.info()"
   ]
  }
 ],
 "metadata": {
  "kernelspec": {
   "display_name": "Python 3",
   "language": "python",
   "name": "python3"
  },
  "language_info": {
   "codemirror_mode": {
    "name": "ipython",
    "version": 3
   },
   "file_extension": ".py",
   "mimetype": "text/x-python",
   "name": "python",
   "nbconvert_exporter": "python",
   "pygments_lexer": "ipython3",
   "version": "3.7.6"
  }
 },
 "nbformat": 4,
 "nbformat_minor": 4
}
