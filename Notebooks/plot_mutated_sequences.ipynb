{
 "cells": [
  {
   "cell_type": "markdown",
   "metadata": {},
   "source": [
    "# Mutation"
   ]
  },
  {
   "cell_type": "code",
   "execution_count": 1,
   "metadata": {},
   "outputs": [],
   "source": [
    "import pandas as pd\n",
    "import numpy as np\n",
    "\n",
    "import torch\n",
    "from torch import nn\n",
    "\n",
    "import pickle\n",
    "import h5py\n",
    "\n",
    "import matplotlib.pyplot as plt\n",
    "import seaborn as sns"
   ]
  },
  {
   "cell_type": "code",
   "execution_count": 2,
   "metadata": {},
   "outputs": [],
   "source": [
    "import sys\n",
    "sys.path.append(\"../Scripts/\")\n",
    "from models import model_v3\n",
    "from util_funs import seq2index, cutseqs, highest_x, index2word_, word2index_\n",
    "from util_att import evaluate, cal_attention\n",
    "from util_mutation import mutate_withinattention_single, mutate_outatt_single"
   ]
  },
  {
   "cell_type": "code",
   "execution_count": 3,
   "metadata": {},
   "outputs": [],
   "source": [
    "middle_index = 499\n",
    "length = 51  \n",
    "radius = length // 2\n",
    "num_task = 12\n",
    "data_index = 841 # 841,833,802\n",
    "my_dict = pickle.load(open('../Data/embeddings_12RM_new2.pkl','rb'))"
   ]
  },
  {
   "cell_type": "markdown",
   "metadata": {},
   "source": [
    "## Three available datatypes to use (one hot, char, 3-mers)"
   ]
  },
  {
   "cell_type": "code",
   "execution_count": 4,
   "metadata": {},
   "outputs": [
    {
     "data": {
      "text/plain": [
       "<KeysViewHDF5 ['test_in', 'test_in_3_mers', 'test_in_nucleo', 'test_out', 'train_in', 'train_in_3_mers', 'train_in_nucleo', 'train_out', 'valid_in', 'valid_in_3_mers', 'valid_in_nucleo', 'valid_out']>"
      ]
     },
     "execution_count": 4,
     "metadata": {},
     "output_type": "execute_result"
    }
   ],
   "source": [
    "RM_data = h5py.File('../Data/data_12RM.h5','r')\n",
    "RM_data.keys()"
   ]
  },
  {
   "cell_type": "code",
   "execution_count": 10,
   "metadata": {},
   "outputs": [],
   "source": [
    "RMs = ['Am','Cm','Gm','Um','m1A','m5C','m5U','m6A','m6Am','m7G','Psi','AtoI']\n",
    "RMs_index2name = {i: RMs[i] for i in range(0,len(RMs))}\n",
    "RMs_name2diff = {'In_att':[], 'Out_att':[], 'Class':[]}   # store probabilities difference after mutation"
   ]
  },
  {
   "cell_type": "code",
   "execution_count": 11,
   "metadata": {},
   "outputs": [],
   "source": [
    "for repeat in range(0,1000):\n",
    "    # prepare data \n",
    "    input_x = pd.read_hdf('../Data/data_12RM.h5','test_in_3_mers')       # 3-mers type\n",
    "    input_x = input_x.iloc[:,middle_index-radius+1:middle_index+radius-1+1].sample(n=20) # test n samples every time\n",
    "    input_x.applymap(lambda x: index2word_(my_dict)[x])\n",
    "    input_x_index = input_x.index\n",
    "    input_x = torch.cuda.FloatTensor(input_x.to_numpy())\n",
    "\n",
    "\n",
    "    input_x_nucleo = pd.read_hdf('../Data/data_12RM.h5','test_in_nucleo')  # nucleo type\n",
    "    input_x_nucleo = input_x_nucleo.iloc[input_x_index,middle_index-radius+1:middle_index+radius+2]\n",
    "    input_x_nucleo_unmutated = input_x_nucleo.copy()\n",
    "    input_x_nucleo_mutated_withinatt = input_x_nucleo.copy()              # copy of mutation\n",
    "    input_x_nucleo_mutated_outatt = input_x_nucleo.copy()                 # copy of mutation\n",
    "\n",
    "    y_true = pd.read_hdf('../Data/data_12RM.h5','test_out').iloc[input_x_index,:]\n",
    "\n",
    "    # Initialize the model\n",
    "    model = model_v3(num_task,use_embedding=True).cuda()\n",
    "    model_path = '../Weights/MultiRM/trained_model_51seqs.pkl'\n",
    "    model.load_state_dict(torch.load(model_path))\n",
    "\n",
    "    # Input data into model and calculate attention weights\n",
    "    attention_weights, y_preds = evaluate(model,input_x)\n",
    "    y_probs = np.array([[y_pred.detach().cpu().numpy()[i] for y_pred in y_preds] for i in range(len(input_x))]) # reformulate probs\n",
    "    # y_probs = y_probs[np.where(y_true==1)]  # select positive sample (may contain TPs, FPs)\n",
    "\n",
    "    attention = cal_attention(attention_weights)\n",
    "\n",
    "    # Calulate highest attention windows\n",
    "    position_dict = dict()\n",
    "    for sample_idx,class_idx in zip(np.arange(0,len(y_probs)),np.where(y_true==1)[1]):\n",
    "        #dict_idx = y_true.index[sample_idx]\n",
    "        tmp = highest_x(attention[sample_idx, class_idx, :],w=5)\n",
    "        position_dict[sample_idx] = tmp\n",
    "\n",
    "    # Perform mutation based on top-2 highest attention windows    \n",
    "    for key, value in position_dict.items(): \n",
    "        exclude = (value[1][1:], value[2][1:]) # take the top 2 windows\n",
    "        mutate_withinattention_single(input_x_nucleo_mutated_withinatt.iloc[key],exclude)\n",
    "        mutate_outatt_single(input_x_nucleo_mutated_outatt.iloc[key], exclude)\n",
    "\n",
    "    # Reformulate data\n",
    "    input_x_mutated_withinatt_index = input_x_nucleo_mutated_withinatt.apply(lambda x: ''.join(x), axis=1\n",
    "                                                                    ).apply(lambda x: seq2index([x],my_dict))\n",
    "    input_x_mutated_outatt_index = input_x_nucleo_mutated_outatt.apply(lambda x: ''.join(x), axis=1\n",
    "                                                               ).apply(lambda x: seq2index([x],my_dict))\n",
    "\n",
    "    input_x_mutated_withinatt_index = np.vstack(input_x_mutated_withinatt_index.apply(lambda x: np.concatenate(x)).values)\n",
    "    input_x_mutated_withinatt_index = torch.cuda.FloatTensor(input_x_mutated_withinatt_index)\n",
    "\n",
    "    input_x_mutated_outatt_index = np.vstack(input_x_mutated_outatt_index.apply(lambda x: np.concatenate(x)).values)\n",
    "    input_x_mutated_outatt_index = torch.cuda.FloatTensor(input_x_mutated_outatt_index)\n",
    "\n",
    "    # feed mutated sequences into model and calculate its probability\n",
    "    attention_weights_withatt, y_preds_withatt = evaluate(model,input_x_mutated_withinatt_index)\n",
    "    y_probs_withatt = np.array([[y_pred.detach().cpu().numpy()[i] for y_pred in y_preds_withatt] for i in range(len(input_x))])\n",
    "    # y_probs_withatt = y_probs_withatt[np.where(y_true==1)]\n",
    "\n",
    "    attention_weights_outatt, y_preds_outatt = evaluate(model,input_x_mutated_outatt_index)\n",
    "    y_probs_outatt = np.array([[y_pred.detach().cpu().numpy()[i] for y_pred in y_preds_outatt] for i in range(len(input_x))])\n",
    "    # y_probs_outatt = y_probs_outatt[np.where(y_true==1)]\n",
    "\n",
    "\n",
    "    for sample_idx, class_idx in zip(np.where(y_true==1)[0],np.where(y_true==1)[1]):\n",
    "        diff_inatt = y_probs_withatt - y_probs\n",
    "        diff_outatt = y_probs_outatt - y_probs\n",
    "        RMs_name2diff['In_att'].append(diff_inatt[sample_idx,class_idx])\n",
    "        RMs_name2diff['Out_att'].append(diff_outatt[sample_idx,class_idx])\n",
    "        RMs_name2diff['Class'].append(RMs_index2name[class_idx])"
   ]
  },
  {
   "cell_type": "markdown",
   "metadata": {},
   "source": [
    "# Visualize"
   ]
  },
  {
   "cell_type": "code",
   "execution_count": 12,
   "metadata": {},
   "outputs": [],
   "source": [
    "diff_df = pd.DataFrame(RMs_name2diff)\n",
    "diff_df_inatt = diff_df[['In_att','Class']].rename(columns={'In_att':'diff'})\n",
    "diff_df_inatt['type'] = pd.Series(['In_att']*len(diff_df_inatt), dtype='string',name='type')\n",
    "\n",
    "diff_df_outatt = diff_df[['Out_att','Class']].rename(columns={'Out_att':'diff'})\n",
    "diff_df_outatt['type'] = pd.Series(['Out_att']*len(diff_df_inatt), dtype='string',name='type')\n",
    "\n",
    "diff_df_2 = pd.concat([diff_df_inatt,diff_df_outatt])"
   ]
  },
  {
   "cell_type": "code",
   "execution_count": 13,
   "metadata": {},
   "outputs": [
    {
     "data": {
      "text/plain": [
       "(10128, 3)"
      ]
     },
     "execution_count": 13,
     "metadata": {},
     "output_type": "execute_result"
    }
   ],
   "source": [
    "diff_df_inatt.shape"
   ]
  },
  {
   "cell_type": "code",
   "execution_count": 18,
   "metadata": {},
   "outputs": [
    {
     "data": {
      "image/png": "[encoded data removed]",
      "text/plain": [
       "<Figure size 720x360 with 1 Axes>"
      ]
     },
     "metadata": {
      "needs_background": "light"
     },
     "output_type": "display_data"
    }
   ],
   "source": [
    "fig, ax = plt.subplots(figsize=(10,5))\n",
    "sns.boxplot(x=\"Class\", y=\"diff\", hue=\"type\",\n",
    "                 data=diff_df_2, palette=\"Set3\",showfliers=False,ax=ax)\n",
    "fig.savefig('../Figs/mutation.pdf')"
   ]
  },
  {
   "cell_type": "code",
   "execution_count": null,
   "metadata": {},
   "outputs": [],
   "source": []
  }
 ],
 "metadata": {
  "kernelspec": {
   "display_name": "Python 3",
   "language": "python",
   "name": "python3"
  },
  "language_info": {
   "codemirror_mode": {
    "name": "ipython",
    "version": 3
   },
   "file_extension": ".py",
   "mimetype": "text/x-python",
   "name": "python",
   "nbconvert_exporter": "python",
   "pygments_lexer": "ipython3",
   "version": "3.7.6"
  }
 },
 "nbformat": 4,
 "nbformat_minor": 4
}
