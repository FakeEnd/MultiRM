{
 "cells": [
  {
   "cell_type": "markdown",
   "metadata": {},
   "source": [
    "# Plot attention weights"
   ]
  },
  {
   "cell_type": "code",
   "execution_count": 1,
   "metadata": {},
   "outputs": [],
   "source": [
    "import pandas as pd\n",
    "import numpy as np\n",
    "\n",
    "import torch\n",
    "from torch import nn\n",
    "\n",
    "import matplotlib.pyplot as plt\n",
    "import seaborn as sns\n",
    "\n",
    "import pickle"
   ]
  },
  {
   "cell_type": "code",
   "execution_count": 2,
   "metadata": {},
   "outputs": [],
   "source": [
    "import sys\n",
    "sys.path.append(\"../Scripts/\")\n",
    "\n",
    "from models import model_v3\n",
    "from util_funs import seq2index, cutseqs, highest_x, index2word_, word2index_\n",
    "from util_att import evaluate, cal_attention\n"
   ]
  },
  {
   "cell_type": "code",
   "execution_count": 3,
   "metadata": {},
   "outputs": [],
   "source": [
    "my_dict = pickle.load(open('../Embeddings/embeddings_12RM.pkl','rb'))  # 3-mers dict\n",
    "middle_index = 499\n",
    "length = 51  \n",
    "radius = length // 2\n",
    "num_task = 12\n",
    "RMs = ['Am','Cm','Gm','Um','m1A','m5C','m5U','m6A','m6Am','m7G','Psi','AtoI']\n",
    "RM_test = 'm6A'   # choose one modification to visualize\n",
    "RM_test_index = RMs.index(RM_test)"
   ]
  },
  {
   "cell_type": "code",
   "execution_count": 4,
   "metadata": {},
   "outputs": [],
   "source": [
    "# load data\n",
    "y_true = pd.read_hdf('../Data/data_12RM.h5','test_out')\n",
    "input_x = pd.read_hdf('../Data/data_12RM.h5','test_in_3_mers')\n",
    "input_x_nucleo = pd.read_hdf('../Data/data_12RM.h5','test_in_nucleo')"
   ]
  },
  {
   "cell_type": "code",
   "execution_count": 9,
   "metadata": {},
   "outputs": [],
   "source": [
    "y_true_pos = y_true.loc[y_true.iloc[:,RM_test_index]==1,:]   # only test positive data\n",
    "input_x_pos = input_x.iloc[y_true_pos.index,middle_index-radius+1:middle_index+radius-1+1].sample()\n",
    "\n",
    "\n",
    "input_x_pos.applymap(lambda x: index2word_(my_dict)[x])\n",
    "y_true_pos_sample = y_true.iloc[input_x_pos.index,:]\n",
    "input_x_nucleo_sample = input_x_nucleo.iloc[input_x_pos.index,middle_index-radius+1:middle_index+radius+2]\n",
    "input_x_pos = torch.cuda.FloatTensor(input_x_pos.to_numpy())\n",
    "\n",
    "\n",
    "\n",
    "# Initialize the model\n",
    "model = model_v3(num_task,use_embedding=True).cuda()\n",
    "model_path = '../Weights/MultiRM/trained_model_51seqs.pkl'\n",
    "model.load_state_dict(torch.load(model_path))\n",
    "\n",
    "# Input data into model and calculate attention weights\n",
    "attention_weights_3mers, y_preds = evaluate(model,input_x_pos)\n",
    "y_preds = y_preds[RM_test_index].cpu().detach().numpy()[0]\n",
    "attention_weights = cal_attention(attention_weights_3mers)\n"
   ]
  },
  {
   "cell_type": "code",
   "execution_count": 10,
   "metadata": {},
   "outputs": [],
   "source": [
    "attention_Df = pd.DataFrame(data=attention_weights[0,...],index=RMs,columns=input_x_nucleo_sample.values[0])"
   ]
  },
  {
   "cell_type": "code",
   "execution_count": 11,
   "metadata": {},
   "outputs": [
    {
     "data": {
      "text/plain": [
       "Text(0.5, 1.0, 'm6A prob 0.748962')"
      ]
     },
     "execution_count": 11,
     "metadata": {},
     "output_type": "execute_result"
    },
    {
     "data": {
      "image/png": "[encoded data removed]",
      "text/plain": [
       "<Figure size 1440x360 with 2 Axes>"
      ]
     },
     "metadata": {
      "needs_background": "light"
     },
     "output_type": "display_data"
    }
   ],
   "source": [
    "f, ax = plt.subplots(figsize=(20,5))\n",
    "ax = sns.heatmap(attention_Df, vmin=0, vmax=1,cmap=\"YlGnBu\")\n",
    "ax.set_title('%s prob %f'%(RM_test,y_preds))\n",
    "#f.savefig('./Figs/attention_map.png')"
   ]
  },
  {
   "cell_type": "code",
   "execution_count": null,
   "metadata": {},
   "outputs": [],
   "source": []
  }
 ],
 "metadata": {
  "kernelspec": {
   "display_name": "Python 3",
   "language": "python",
   "name": "python3"
  },
  "language_info": {
   "codemirror_mode": {
    "name": "ipython",
    "version": 3
   },
   "file_extension": ".py",
   "mimetype": "text/x-python",
   "name": "python",
   "nbconvert_exporter": "python",
   "pygments_lexer": "ipython3",
   "version": "3.6.12"
  }
 },
 "nbformat": 4,
 "nbformat_minor": 4
}
