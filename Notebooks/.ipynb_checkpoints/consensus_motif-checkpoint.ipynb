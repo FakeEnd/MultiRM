{
 "cells": [
  {
   "cell_type": "markdown",
   "metadata": {},
   "source": [
    "# Consensus Motif"
   ]
  },
  {
   "cell_type": "code",
   "execution_count": 14,
   "metadata": {},
   "outputs": [],
   "source": [
    "import numpy as np\n",
    "import pandas as pd\n",
    "import h5py"
   ]
  },
  {
   "cell_type": "code",
   "execution_count": 182,
   "metadata": {},
   "outputs": [],
   "source": [
    "def highest_score(a,w):\n",
    "    \"\"\"\n",
    "    Inputs:\n",
    "        a: a 1-D numpy array contains the scores of each position\n",
    "        w: length of window to aggregate the scores\n",
    "    \"\"\"\n",
    "    assert(len(a)>=w)\n",
    "    best = -200000\n",
    "    best_idx_start = 0\n",
    "    best_idx_end =0\n",
    "    for i in range(len(a)-w + 1):\n",
    "        tmp = np.sum(a[i:i+w])\n",
    "        if tmp > best:\n",
    "            best = tmp\n",
    "            best_idx_start = i\n",
    "            best_idx_end = i + w - 1\n",
    "    \n",
    "    return best, best_idx_start, best_idx_end"
   ]
  },
  {
   "cell_type": "code",
   "execution_count": 185,
   "metadata": {},
   "outputs": [],
   "source": [
    "def highest_x(a,w,p=1):\n",
    "    \"\"\"\n",
    "    Inputs:\n",
    "        a: a 1-D numpy array contains the scores of each position\n",
    "        w: length of window to aggregate the scores\n",
    "        p: length of padding when maximum sum of consecutive numbers are taken\n",
    "    \"\"\"\n",
    "    \n",
    "    lists = [{k:v for (k,v) in zip(range(len(a)),a)}]\n",
    "    result = {}\n",
    "    max_idx = len(a) -1\n",
    "    count = 1\n",
    "    condition = [True]\n",
    "    while any(con is True for con in condition):\n",
    "        starts = []\n",
    "        ends = []\n",
    "        bests = []\n",
    "        \n",
    "        for ele in lists:\n",
    "            values = list(ele.values())\n",
    "            idx = list(ele.keys())\n",
    "            \n",
    "\n",
    "            start_idx = idx[0]\n",
    "            \n",
    "            if len(values) >= w:\n",
    "                highest, highest_idx_start, highest_idx_end = highest_score(values,w)\n",
    "                #print('ori',highest_idx_start, highest_idx_end)\n",
    "                starts.append(highest_idx_start+start_idx)\n",
    "\n",
    "\n",
    "                ends.append(highest_idx_end+start_idx)\n",
    "                #print('add',highest_idx_start+start_idx,highest_idx_end+start_idx)\n",
    "\n",
    "\n",
    "                bests.append(highest)\n",
    "\n",
    "        \n",
    "        best_idx = max(zip(bests, range(len(bests))))[1]   # calculate the index of maximum sum\n",
    "        \n",
    "        cut_value = bests[best_idx]\n",
    "        \n",
    "        if starts[best_idx] - p >=0:\n",
    "            cut_idx_start = starts[best_idx] - p\n",
    "        else:\n",
    "            cut_idx_start = 0\n",
    "        \n",
    "        if ends[best_idx] + p <=max_idx:\n",
    "            cut_idx_end = ends[best_idx] + p\n",
    "        else:\n",
    "            cut_idx_end = max_idx\n",
    "                        \n",
    "        result[count] = (cut_value,starts[best_idx],ends[best_idx])                \n",
    "        \n",
    "\n",
    "        copy = lists.copy()\n",
    " \n",
    "        for ele in lists:\n",
    "            values = list(ele.values())\n",
    "            idx = list(ele.keys())\n",
    "            \n",
    "            start_idx, end_idx = idx[0], idx[-1]\n",
    "            \n",
    "            if len(values) < w:\n",
    "                copy.remove(ele)\n",
    "            else:\n",
    "#                 print(cut_idx_start,cut_idx_end)\n",
    "#                 print(start_idx,end_idx)\n",
    "#                 print(values)\n",
    "                if (cut_idx_end < start_idx) or (cut_idx_start > end_idx):\n",
    "                    \n",
    "                    pass\n",
    "                elif (cut_idx_start < start_idx) and (cut_idx_end >= start_idx):\n",
    "                    copy.remove(ele)\n",
    "                    values = values[cut_idx_end-start_idx+1:]\n",
    "                    idx = idx[cut_idx_end-start_idx+1:]\n",
    "                    ele = {k:v for (k,v) in zip(idx,values)}\n",
    "                    \n",
    "                    if ele != {}:\n",
    "                        copy.append(ele)\n",
    "\n",
    "                elif (cut_idx_start >= start_idx) and (cut_idx_end <= end_idx):\n",
    "                    copy.remove(ele)\n",
    "                    values_1 = values[:cut_idx_start-start_idx]\n",
    "                    idx_1 = idx[:cut_idx_start-start_idx]\n",
    "                    ele_1 = {k:v for (k,v) in zip(idx_1,values_1)}\n",
    "                    \n",
    "                    values_2 = values[cut_idx_end-start_idx+1:]\n",
    "                    idx_2 = idx[cut_idx_end-start_idx+1:]\n",
    "                    ele_2 = {k:v for (k,v) in zip(idx_2,values_2)}\n",
    "                    \n",
    "                    if ele_1 != {}:\n",
    "                        copy.append(ele_1)\n",
    "                    if ele_2 != {}:\n",
    "                        copy.append(ele_2)\n",
    "                    \n",
    "                elif (cut_idx_start <= end_idx) and (cut_idx_end > end_idx):\n",
    "                    copy.remove(ele)\n",
    "                    values = values[:cut_idx_start-start_idx]\n",
    "                    idx = idx[:cut_idx_start-start_idx]\n",
    "                    ele = {k:v for (k,v) in zip(idx,values)}\n",
    "                    \n",
    "                    if ele != {}:\n",
    "                        copy.append(ele)\n",
    "         \n",
    "        lists = copy\n",
    "#        print(lists)\n",
    "        count = count + 1\n",
    "        condition = [len(i)>=w for i in lists]\n",
    "#        print(condition)\n",
    "        \n",
    "    return result"
   ]
  },
  {
   "cell_type": "code",
   "execution_count": 161,
   "metadata": {},
   "outputs": [],
   "source": [
    "a = np.random.rand(51)"
   ]
  },
  {
   "cell_type": "code",
   "execution_count": 151,
   "metadata": {},
   "outputs": [],
   "source": [
    "a = [1,2,3,4,5,4,3,2,1]"
   ]
  },
  {
   "cell_type": "code",
   "execution_count": 156,
   "metadata": {},
   "outputs": [
    {
     "data": {
      "text/plain": [
       "{1: (1.827819222265529, 7, 8),\n",
       " 2: (1.646649289809314, 2, 3),\n",
       " 3: (1.2891263380985096, 23, 24),\n",
       " 4: (1.2889444196673745, 20, 21),\n",
       " 5: (1.1682210986868133, 14, 15),\n",
       " 6: (1.071659953735511, 17, 18),\n",
       " 7: (1.0623236330624517, 26, 27),\n",
       " 8: (1.0468036855617566, 11, 12)}"
      ]
     },
     "execution_count": 156,
     "metadata": {},
     "output_type": "execute_result"
    }
   ],
   "source": [
    "highest_x(a,2)"
   ]
  },
  {
   "cell_type": "code",
   "execution_count": 162,
   "metadata": {},
   "outputs": [
    {
     "data": {
      "text/plain": [
       "{1: (3.784497186193068, 31, 35),\n",
       " 2: (3.599213851776463, 45, 49),\n",
       " 3: (3.384569060158817, 17, 21),\n",
       " 4: (3.0769835679263458, 25, 29),\n",
       " 5: (3.010462746235732, 4, 8),\n",
       " 6: (2.614472231048295, 38, 42),\n",
       " 7: (1.550165095836365, 10, 14)}"
      ]
     },
     "execution_count": 162,
     "metadata": {},
     "output_type": "execute_result"
    }
   ],
   "source": [
    "highest_x(a,5)"
   ]
  },
  {
   "cell_type": "code",
   "execution_count": 4,
   "metadata": {},
   "outputs": [],
   "source": [
    "hm6Am = h5py.File('./Seqs/ig_hm6Am_51.h5','r')['hm6Am'][:]"
   ]
  },
  {
   "cell_type": "code",
   "execution_count": null,
   "metadata": {},
   "outputs": [],
   "source": []
  },
  {
   "cell_type": "code",
   "execution_count": 7,
   "metadata": {},
   "outputs": [],
   "source": [
    "hm6Am_sum = np.sum(hm6Am,axis=1)"
   ]
  },
  {
   "cell_type": "code",
   "execution_count": 163,
   "metadata": {},
   "outputs": [],
   "source": [
    "atoi_sum = np.sum(atoi,axis=1)"
   ]
  },
  {
   "cell_type": "code",
   "execution_count": 186,
   "metadata": {},
   "outputs": [],
   "source": [
    "num_samples = atoi.shape[0]\n",
    "results = []\n",
    "for i in range(num_samples):\n",
    "    results.append(highest_x(atoi_sum[i,:],w=5,p=1))"
   ]
  },
  {
   "cell_type": "code",
   "execution_count": 187,
   "metadata": {},
   "outputs": [
    {
     "data": {
      "text/plain": [
       "{1: (0.014641147, 23, 27),\n",
       " 2: (0.007598506, 29, 33),\n",
       " 3: (0.005950458, 7, 11),\n",
       " 4: (0.00065124943, 38, 42),\n",
       " 5: (9.444083e-05, 45, 49),\n",
       " 6: (-0.0001424815, 0, 4),\n",
       " 7: (-0.00181178, 14, 18)}"
      ]
     },
     "execution_count": 187,
     "metadata": {},
     "output_type": "execute_result"
    }
   ],
   "source": [
    "results[0]"
   ]
  },
  {
   "cell_type": "code",
   "execution_count": 188,
   "metadata": {},
   "outputs": [
    {
     "data": {
      "text/plain": [
       "{1: (0.014641147, 23, 27),\n",
       " 2: (0.007598506, 29, 33),\n",
       " 3: (0.005950458, 7, 11),\n",
       " 4: (0.00065124943, 38, 42),\n",
       " 5: (9.444083e-05, 45, 49),\n",
       " 6: (-0.0001424815, 0, 4),\n",
       " 7: (-0.00181178, 14, 18)}"
      ]
     },
     "execution_count": 188,
     "metadata": {},
     "output_type": "execute_result"
    }
   ],
   "source": [
    "results[0]"
   ]
  },
  {
   "cell_type": "code",
   "execution_count": 9,
   "metadata": {},
   "outputs": [],
   "source": [
    "results_dim = []\n",
    "data = []\n",
    "index = []\n",
    "for j in range(num_samples):\n",
    "    seq = results[0]\n",
    "    k = 3\n",
    "    new_dict ={}\n",
    "    for i in range(1,k+1):\n",
    "        start_idx = seq.get(i)[1]\n",
    "        end_idx = seq.get(i)[2]\n",
    "        tmp = hm6Am[j,:,start_idx:end_idx+1] # shape like(4,w)\n",
    "        tmp = tmp.T.flatten()                # flatten into (4W)\n",
    "        new_dict[i]=tmp\n",
    "        \n",
    "        data.append(tmp)\n",
    "        index.append('%d_%d'%(j,i))\n",
    "    results_dim.append(new_dict)"
   ]
  },
  {
   "cell_type": "code",
   "execution_count": 10,
   "metadata": {},
   "outputs": [
    {
     "data": {
      "text/plain": [
       "{1: array([ 0.03680011,  0.02046488,  0.01746996, -0.00110516,  0.00184294,\n",
       "         0.00335644, -0.00198832,  0.00102926,  0.00756715, -0.00640998,\n",
       "        -0.00352543,  0.00758302, -0.00130174, -0.0021996 , -0.00128708,\n",
       "         0.00162476,  0.00238725,  0.00053926,  0.00233512, -0.00068591],\n",
       "       dtype=float32),\n",
       " 2: array([ 2.74962140e-03,  1.09868078e-03,  1.93275698e-03,  1.39889657e-03,\n",
       "        -1.33490030e-04,  6.13192697e-06,  9.41385661e-05, -1.50734762e-04,\n",
       "        -4.33895446e-04,  7.31632230e-04, -4.37139621e-04,  4.29840758e-04,\n",
       "        -1.17722855e-04,  2.07209538e-04, -1.17760268e-04, -1.05009043e-04,\n",
       "         3.66610620e-04,  4.77926282e-04,  3.64509004e-04,  1.02977699e-03],\n",
       "       dtype=float32),\n",
       " 3: array([-3.4209670e-04,  1.7070887e-04,  7.8369660e-04,  5.6075962e-05,\n",
       "        -4.1929485e-05,  1.7502001e-05, -5.3891843e-05,  1.5973196e-04,\n",
       "        -1.1646936e-04,  3.6215276e-04,  5.7701103e-04, -2.5627922e-04,\n",
       "        -1.4762917e-04,  1.2318023e-03,  1.6676189e-04, -2.0398041e-04,\n",
       "         3.2664122e-04,  5.6570058e-04,  1.1101112e-03,  4.4894949e-04],\n",
       "       dtype=float32)}"
      ]
     },
     "execution_count": 10,
     "metadata": {},
     "output_type": "execute_result"
    }
   ],
   "source": [
    "results_dim[0]"
   ]
  },
  {
   "cell_type": "code",
   "execution_count": 13,
   "metadata": {},
   "outputs": [],
   "source": [
    "df = pd.DataFrame(data=data,index=index)"
   ]
  },
  {
   "cell_type": "markdown",
   "metadata": {},
   "source": [
    "# Clustering "
   ]
  },
  {
   "cell_type": "code",
   "execution_count": 11,
   "metadata": {},
   "outputs": [],
   "source": [
    "from sklearn.cluster import DBSCAN\n",
    "from sklearn.cluster import SpectralClustering\n",
    "from sklearn.decomposition import PCA\n",
    "from sklearn.manifold import TSNE\n",
    "\n",
    "import matplotlib.pyplot as plt"
   ]
  },
  {
   "cell_type": "code",
   "execution_count": 133,
   "metadata": {},
   "outputs": [],
   "source": [
    "Y = TSNE(n_components=2, random_state=0, perplexity=30).fit_transform(df)"
   ]
  },
  {
   "cell_type": "code",
   "execution_count": 14,
   "metadata": {},
   "outputs": [],
   "source": [
    "Y = PCA(n_components=2).fit_transform(df)"
   ]
  },
  {
   "cell_type": "code",
   "execution_count": 159,
   "metadata": {},
   "outputs": [
    {
     "data": {
      "text/plain": [
       "<matplotlib.collections.PathCollection at 0x1bfecf27d08>"
      ]
     },
     "execution_count": 159,
     "metadata": {},
     "output_type": "execute_result"
    },
    {
     "data": {
      "image/png": "[encoded data removed]",
      "text/plain": [
       "<Figure size 432x288 with 1 Axes>"
      ]
     },
     "metadata": {
      "needs_background": "light"
     },
     "output_type": "display_data"
    }
   ],
   "source": [
    "ax = plt.subplot(111)\n",
    "ax.scatter(x=Y[:,0],y=Y[:,1])\n",
    "# ax.set_xlim([-150,150])\n",
    "# ax.set_ylim([-150,150])"
   ]
  },
  {
   "cell_type": "code",
   "execution_count": 164,
   "metadata": {},
   "outputs": [],
   "source": [
    "clustering = DBSCAN(eps=0.2, min_samples=2).fit(Y)"
   ]
  },
  {
   "cell_type": "code",
   "execution_count": 15,
   "metadata": {},
   "outputs": [],
   "source": [
    "clustering = SpectralClustering(n_clusters=3,assign_labels=\"discretize\",random_state=0).fit(Y)"
   ]
  },
  {
   "cell_type": "code",
   "execution_count": 19,
   "metadata": {},
   "outputs": [
    {
     "data": {
      "text/plain": [
       "array([0, 1, 2], dtype=int64)"
      ]
     },
     "execution_count": 19,
     "metadata": {},
     "output_type": "execute_result"
    }
   ],
   "source": [
    "np.unique(clustering.labels_)"
   ]
  },
  {
   "cell_type": "code",
   "execution_count": 168,
   "metadata": {},
   "outputs": [
    {
     "data": {
      "text/plain": [
       "<matplotlib.collections.PathCollection at 0x1bfecf99288>"
      ]
     },
     "execution_count": 168,
     "metadata": {},
     "output_type": "execute_result"
    },
    {
     "data": {
      "image/png": "[encoded data removed]",
      "text/plain": [
       "<Figure size 432x288 with 1 Axes>"
      ]
     },
     "metadata": {
      "needs_background": "light"
     },
     "output_type": "display_data"
    }
   ],
   "source": [
    "ax = plt.subplot(111)\n",
    "ax.scatter(x=Y[:,0],y=Y[:,1],c=clustering.labels_)\n",
    "# ax.set_xlim([-150,150])\n",
    "# ax.set_ylim([-150,150])"
   ]
  },
  {
   "cell_type": "code",
   "execution_count": 20,
   "metadata": {},
   "outputs": [],
   "source": [
    "def result_idx(results,df,cluster_label):\n",
    "    class_dict = {}\n",
    "    for label in np.unique(cluster_label):\n",
    "        index_list_df = list(df.index[cluster_label==label])\n",
    "        out = []\n",
    "        for string in index_list_df:\n",
    "            string_list = string.split('_')\n",
    "            sample_idx = int(string_list[0])\n",
    "            rank_idx = int(string_list[1])\n",
    "\n",
    "            _, start_idx, end_idx = results[sample_idx].get(rank_idx)\n",
    "\n",
    "            out.append((sample_idx,start_idx,end_idx))\n",
    "        class_dict[label] = out\n",
    "    return class_dict"
   ]
  },
  {
   "cell_type": "code",
   "execution_count": 174,
   "metadata": {},
   "outputs": [
    {
     "data": {
      "text/plain": [
       "['2_1', '3_1']"
      ]
     },
     "execution_count": 174,
     "metadata": {},
     "output_type": "execute_result"
    }
   ],
   "source": [
    "list(df.index[clustering.labels_==0])"
   ]
  },
  {
   "cell_type": "code",
   "execution_count": 173,
   "metadata": {},
   "outputs": [
    {
     "data": {
      "text/plain": [
       "Index(['0_2', '0_3', '1_2', '1_3', '2_2', '2_3', '3_2', '3_3', '4_2', '4_3'], dtype='object')"
      ]
     },
     "execution_count": 173,
     "metadata": {},
     "output_type": "execute_result"
    }
   ],
   "source": [
    "df.index[clustering.labels_==1]"
   ]
  },
  {
   "cell_type": "code",
   "execution_count": 21,
   "metadata": {},
   "outputs": [
    {
     "data": {
      "text/plain": [
       "{1: (0.08449693, 25, 29),\n",
       " 2: (0.00939198, 5, 9),\n",
       " 3: (0.00481457, 41, 45),\n",
       " 4: (0.0025335997, 17, 21),\n",
       " 5: (0, 23, 23),\n",
       " 6: (0, 11, 11),\n",
       " 7: (0, 13, 13),\n",
       " 8: (0, 31, 31),\n",
       " 9: (0, 33, 33),\n",
       " 10: (0, 35, 35)}"
      ]
     },
     "execution_count": 21,
     "metadata": {},
     "output_type": "execute_result"
    }
   ],
   "source": [
    "results[0]"
   ]
  },
  {
   "cell_type": "code",
   "execution_count": 35,
   "metadata": {},
   "outputs": [],
   "source": [
    "index_dict= result_idx(results,df,clustering.labels_)"
   ]
  },
  {
   "cell_type": "code",
   "execution_count": 23,
   "metadata": {},
   "outputs": [
    {
     "data": {
      "text/plain": [
       "{0: [(2, 21, 25), (3, 22, 26)],\n",
       " 1: [(0, 5, 9),\n",
       "  (0, 41, 45),\n",
       "  (1, 42, 46),\n",
       "  (1, 13, 17),\n",
       "  (2, 43, 47),\n",
       "  (2, 5, 9),\n",
       "  (3, 29, 33),\n",
       "  (3, 9, 13),\n",
       "  (4, 17, 21),\n",
       "  (4, 37, 41)],\n",
       " 2: [(0, 25, 29), (1, 21, 25), (4, 25, 29)]}"
      ]
     },
     "execution_count": 23,
     "metadata": {},
     "output_type": "execute_result"
    }
   ],
   "source": [
    "index_list"
   ]
  },
  {
   "cell_type": "markdown",
   "metadata": {},
   "source": [
    "# Position Weight Matrix"
   ]
  },
  {
   "cell_type": "code",
   "execution_count": 28,
   "metadata": {},
   "outputs": [],
   "source": [
    "def pfm(seqs):\n",
    "    \"\"\"\n",
    "    Inputs:\n",
    "           seqs: list of seqs\n",
    "    Outputs:\n",
    "           A (4, x) matrix where x is the length of input seqs\n",
    "\n",
    "           A\n",
    "           C\n",
    "           G\n",
    "           T/U\n",
    "    \n",
    "    \"\"\"\n",
    "    length = len(seqs[0])\n",
    "    out = np.zeros((4,length))\n",
    "    for seq in seqs:\n",
    "        for i in range(length):\n",
    "            if seq[i] == 'A':\n",
    "                out[0,i] += 1\n",
    "            elif seq[i] == 'C':\n",
    "                out[1,i] += 1\n",
    "            elif seq[i] == 'G':\n",
    "                out[2,i] += 1\n",
    "            elif seq[i] =='T' or seq[i] =='U':\n",
    "                out[3,i] += 1\n",
    "    return out"
   ]
  },
  {
   "cell_type": "code",
   "execution_count": 29,
   "metadata": {},
   "outputs": [],
   "source": [
    "def pwm(pfm,total,bg=0.25):\n",
    "    p = (pfm + (np.sqrt(total) * 1/4)) / (total + (4 * (np.sqrt(total) * 1/4)))\n",
    "    p = np.log2(p/bg)\n",
    "    return p"
   ]
  },
  {
   "cell_type": "code",
   "execution_count": 27,
   "metadata": {},
   "outputs": [],
   "source": [
    "def read_seq(index_list,raw_seqs):\n",
    "    \"\"\"\n",
    "        Inputs:\n",
    "            Index_list: [(sample_idx, start_idx, end_idx)] a list of tuples in single class\n",
    "            raw_seqs: original RNA sequences\n",
    "    \"\"\"\n",
    "    seqs = []\n",
    "    for (sample_idx, start_idx, end_idx) in index_list:\n",
    "        seqs.append(raw_seqs[sample_idx][start_idx:end_idx+1])\n",
    "    return seqs"
   ]
  },
  {
   "cell_type": "code",
   "execution_count": 37,
   "metadata": {},
   "outputs": [],
   "source": [
    "def read_seq_all(index_dict,raw_seqs):\n",
    "    class_dict = {}\n",
    "    for k, v in index_dict.items():\n",
    "        class_dict[k] = read_seq(v,raw_seqs)\n",
    "    return class_dict"
   ]
  },
  {
   "cell_type": "code",
   "execution_count": 25,
   "metadata": {},
   "outputs": [],
   "source": [
    "with open('./Seqs/high_hm6Am_test.txt','r') as f_obj:\n",
    "    seqs = f_obj.read()\n",
    "seqs = seqs.split('\\n')"
   ]
  },
  {
   "cell_type": "code",
   "execution_count": 41,
   "metadata": {},
   "outputs": [],
   "source": [
    "seqs_dict = read_seq_all(index_dict,seqs)"
   ]
  },
  {
   "cell_type": "code",
   "execution_count": 42,
   "metadata": {},
   "outputs": [
    {
     "data": {
      "text/plain": [
       "{0: ['ACTCA', 'GCCAG'],\n",
       " 1: ['TGTGG',\n",
       "  'TTAGA',\n",
       "  'CTCAA',\n",
       "  'CGGGG',\n",
       "  'CCATT',\n",
       "  'TTTGA',\n",
       "  'TGGTC',\n",
       "  'TTTCA',\n",
       "  'GAATT',\n",
       "  'GTTAA'],\n",
       " 2: ['AAGCA', 'CACCA', 'AGCAA']}"
      ]
     },
     "execution_count": 42,
     "metadata": {},
     "output_type": "execute_result"
    }
   ],
   "source": [
    "seqs_dict"
   ]
  },
  {
   "cell_type": "code",
   "execution_count": 43,
   "metadata": {},
   "outputs": [],
   "source": [
    "pwm_weights_dict = {}\n",
    "for k, v in seqs_dict.items():\n",
    "    pwm_weights_dict[k] = pwm(pfm(v),5)"
   ]
  },
  {
   "cell_type": "code",
   "execution_count": 44,
   "metadata": {},
   "outputs": [
    {
     "data": {
      "text/plain": [
       "{0: array([[-0.21456931, -1.69424191, -1.69424191, -0.21456931, -0.21456931],\n",
       "        [-1.69424191,  0.50038377, -0.21456931, -0.21456931, -1.69424191],\n",
       "        [-0.21456931, -1.69424191, -1.69424191, -1.69424191, -0.21456931],\n",
       "        [-1.69424191, -1.69424191, -0.21456931, -1.69424191, -1.69424191]]),\n",
       " 1: array([[-1.69424191, -0.21456931,  0.97627286,  0.50038377,  1.61962383],\n",
       "        [ 0.97627286, -0.21456931, -0.21456931, -0.21456931, -0.21456931],\n",
       "        [ 0.50038377,  0.97627286,  0.50038377,  1.33351683,  0.50038377],\n",
       "        [ 1.61962383,  1.61962383,  1.33351683,  0.97627286,  0.50038377]]),\n",
       " 2: array([[ 0.50038377,  0.50038377, -1.69424191, -0.21456931,  0.97627286],\n",
       "        [-0.21456931, -1.69424191,  0.50038377,  0.50038377, -1.69424191],\n",
       "        [-1.69424191, -0.21456931, -0.21456931, -1.69424191, -1.69424191],\n",
       "        [-1.69424191, -1.69424191, -1.69424191, -1.69424191, -1.69424191]])}"
      ]
     },
     "execution_count": 44,
     "metadata": {},
     "output_type": "execute_result"
    }
   ],
   "source": [
    "pwm_weights_dict "
   ]
  },
  {
   "cell_type": "code",
   "execution_count": 228,
   "metadata": {},
   "outputs": [],
   "source": [
    "np.savetxt('./Seqs/consensus_motif.csv',pwm_weights)"
   ]
  },
  {
   "cell_type": "code",
   "execution_count": 87,
   "metadata": {},
   "outputs": [],
   "source": [
    "from util_cm import cal_consensus_motif"
   ]
  },
  {
   "cell_type": "code",
   "execution_count": 23,
   "metadata": {},
   "outputs": [],
   "source": [
    "def highest_score(a,w):\n",
    "    \"\"\"\n",
    "    Inputs:\n",
    "        a: a 1-D numpy array contains the scores of each position\n",
    "        w: length of window to aggregate the scores\n",
    "    \"\"\"\n",
    "\n",
    "    assert(len(a)>=w)\n",
    "\n",
    "    best = -20000\n",
    "    best_idx_start = 0\n",
    "    best_idx_end =0\n",
    "    for i in range(len(a)-w + 1):\n",
    "        tmp = np.sum(a[i:i+w])\n",
    "        if tmp > best:\n",
    "            best = tmp\n",
    "            best_idx_start = i\n",
    "            best_idx_end = i + w - 1\n",
    "\n",
    "    return best, best_idx_start, best_idx_end\n",
    "\n",
    "def highest_x(a,w,p=1):\n",
    "    \"\"\"\n",
    "    Inputs:\n",
    "        a: a 1-D numpy array contains the scores of each position\n",
    "        w: length of window to aggregate the scores\n",
    "        p: length of padding when maximum sum of consecutive numbers are taken\n",
    "    \"\"\"\n",
    "\n",
    "    lists = [{k:v for (k,v) in zip(range(len(a)),a)}]\n",
    "    result = {}\n",
    "    max_idx = len(a) -1\n",
    "    count = 1\n",
    "    condition = [True]\n",
    "    while any(con is True for con in condition):\n",
    "        starts = []\n",
    "        ends = []\n",
    "        bests = []\n",
    "\n",
    "        for ele in lists:\n",
    "            values = list(ele.values())\n",
    "            idx = list(ele.keys())\n",
    "\n",
    "\n",
    "            start_idx = idx[0]\n",
    "\n",
    "            if len(values) >= w:\n",
    "                highest, highest_idx_start, highest_idx_end = highest_score(values,w)\n",
    "\n",
    "                starts.append(highest_idx_start+start_idx)\n",
    "\n",
    "\n",
    "                ends.append(highest_idx_end+start_idx)\n",
    "\n",
    "\n",
    "                bests.append(highest)\n",
    "\n",
    "\n",
    "        best_idx = max(zip(bests, range(len(bests))))[1]   # calculate the index of maximum sum\n",
    "\n",
    "        cut_value = bests[best_idx]\n",
    "\n",
    "        if starts[best_idx] - p >=0:\n",
    "            cut_idx_start = starts[best_idx] - p\n",
    "        else:\n",
    "            cut_idx_start = 0\n",
    "\n",
    "        if ends[best_idx] + p <=max_idx:\n",
    "            cut_idx_end = ends[best_idx] + p\n",
    "        else:\n",
    "            cut_idx_end = max_idx\n",
    "\n",
    "        result[count] = (cut_value,starts[best_idx],ends[best_idx])\n",
    "\n",
    "\n",
    "        copy = lists.copy()\n",
    "\n",
    "        for ele in lists:\n",
    "            values = list(ele.values())\n",
    "            idx = list(ele.keys())\n",
    "\n",
    "            start_idx, end_idx = idx[0], idx[-1]\n",
    "\n",
    "            if len(values) < w:\n",
    "                copy.remove(ele)\n",
    "            else:\n",
    "#                 print(cut_idx_start,cut_idx_end)\n",
    "#                 print(start_idx,end_idx)\n",
    "#                 print(values)\n",
    "                if (cut_idx_end < start_idx) or (cut_idx_start > end_idx):\n",
    "\n",
    "                    pass\n",
    "                elif (cut_idx_start < start_idx) and (cut_idx_end >= start_idx):\n",
    "                    copy.remove(ele)\n",
    "                    values = values[cut_idx_end-start_idx+1:]\n",
    "                    idx = idx[cut_idx_end-start_idx+1:]\n",
    "                    ele = {k:v for (k,v) in zip(idx,values)}\n",
    "\n",
    "                    if ele != {}:\n",
    "                        copy.append(ele)\n",
    "\n",
    "                elif (cut_idx_start >= start_idx) and (cut_idx_end <= end_idx):\n",
    "                    copy.remove(ele)\n",
    "                    values_1 = values[:cut_idx_start-start_idx]\n",
    "                    idx_1 = idx[:cut_idx_start-start_idx]\n",
    "                    ele_1 = {k:v for (k,v) in zip(idx_1,values_1)}\n",
    "\n",
    "                    values_2 = values[cut_idx_end-start_idx+1:]\n",
    "                    idx_2 = idx[cut_idx_end-start_idx+1:]\n",
    "                    ele_2 = {k:v for (k,v) in zip(idx_2,values_2)}\n",
    "\n",
    "                    if ele_1 != {}:\n",
    "                        copy.append(ele_1)\n",
    "                    if ele_2 != {}:\n",
    "                        copy.append(ele_2)\n",
    "\n",
    "                elif (cut_idx_start <= end_idx) and (cut_idx_end > end_idx):\n",
    "                    copy.remove(ele)\n",
    "                    values = values[:cut_idx_start-start_idx]\n",
    "                    idx = idx[:cut_idx_start-start_idx]\n",
    "                    ele = {k:v for (k,v) in zip(idx,values)}\n",
    "\n",
    "                    if ele != {}:\n",
    "                        copy.append(ele)\n",
    "\n",
    "        lists = copy\n",
    "#        print(lists)\n",
    "        count = count + 1\n",
    "        condition = [len(i)>=w for i in lists]\n",
    "#        print(condition)\n",
    "\n",
    "    return result\n",
    "\n",
    "def reduction_clustering(df,n_clusters=3):\n",
    "    Y = PCA(n_components=2).fit_transform(df)\n",
    "    clustering = SpectralClustering(n_clusters=n_clusters,assign_labels=\"discretize\",random_state=0).fit(Y)\n",
    "    cluster_labels = clustering.labels_\n",
    "    return cluster_labels\n",
    "\n",
    "def result_idx(results,df,cluster_label):\n",
    "    \"\"\"\n",
    "    Get the correspond samples from each cluster along with its label and location\n",
    "    in original rna seqs\n",
    "        Inputs:\n",
    "            results: list of (score, start_idx, end_idx) tuple with loc\n",
    "            df: 20-dim vector\n",
    "            cluster_label:label for each sample. shape: (num_samples,)\n",
    "    \"\"\"\n",
    "    class_dict = {}\n",
    "    for label in np.unique(cluster_label):\n",
    "        index_list_df = list(df.index[cluster_label==label])\n",
    "        out = []\n",
    "        for string in index_list_df:\n",
    "            string_list = string.split('_')\n",
    "            sample_idx = int(string_list[0])\n",
    "            rank_idx = int(string_list[1])\n",
    "\n",
    "            _, start_idx, end_idx = results[sample_idx].get(rank_idx)\n",
    "\n",
    "            out.append((sample_idx,start_idx,end_idx))\n",
    "        class_dict[label] = out\n",
    "    return class_dict\n",
    "\n",
    "def pfm(seqs):\n",
    "    \"\"\"\n",
    "    Inputs:\n",
    "           seqs: list of seqs\n",
    "    Outputs:\n",
    "           A (4, x) matrix where x is the length of input seqs\n",
    "\n",
    "           A\n",
    "           C\n",
    "           G\n",
    "           T/U\n",
    "\n",
    "    \"\"\"\n",
    "    length = len(seqs[0])\n",
    "    out = np.zeros((4,length))\n",
    "    for seq in seqs:\n",
    "        for i in range(length):\n",
    "            if seq[i] == 'A':\n",
    "                out[0,i] += 1\n",
    "            elif seq[i] == 'C':\n",
    "                out[1,i] += 1\n",
    "            elif seq[i] == 'G':\n",
    "                out[2,i] += 1\n",
    "            elif seq[i] =='T' or seq[i] =='U':\n",
    "                out[3,i] += 1\n",
    "    return out\n",
    "\n",
    "def pwm(pfm,bg=0.25):\n",
    "    totals = []\n",
    "    for i in range(pfm.shape[1]):\n",
    "        totals.append(np.sum(pfm[:,i]))\n",
    "    total = max(totals)\n",
    "    p = (pfm + (np.sqrt(total) * 1/4)) / (total + (4 * (np.sqrt(total) * 1/4)))\n",
    "    p = np.log2(p/bg)\n",
    "    return p\n",
    "\n",
    "def read_seq(index_list,raw_seqs):\n",
    "    \"\"\"\n",
    "        Inputs:\n",
    "            Index_list: [(sample_idx, start_idx, end_idx)] a list of tuples in single class\n",
    "            raw_seqs: original RNA sequences\n",
    "    \"\"\"\n",
    "    seqs = []\n",
    "    for (sample_idx, start_idx, end_idx) in index_list:\n",
    "        seqs.append(raw_seqs[sample_idx][start_idx:end_idx+1])\n",
    "    return seqs\n",
    "\n",
    "def read_seq_all(index_dict,raw_seqs):\n",
    "    class_dict = {}\n",
    "    for k, v in index_dict.items():\n",
    "        class_dict[k] = read_seq(v,raw_seqs)\n",
    "    return class_dict\n",
    "\n",
    "def cal_consensus_motif(RM,raw_seqs,w=5,k=3,p=1):\n",
    "    \"\"\"\n",
    "    Calculte consensus_motif for single RM\n",
    "        Inputs:\n",
    "            RM: (num,4,length) RM from ig or attention weights\n",
    "            raw_seqs: list of raw_rna_seqs\n",
    "            w: length of consecutive RNA nucleotides to sum up (default 5)\n",
    "            k: top k result fetched from summing consecutive RNA nucleotides\n",
    "            p: padding for sum\n",
    "    \"\"\"\n",
    "\n",
    "\n",
    "    RM_sum = np.sum(RM,axis=1)\n",
    "\n",
    "    num_samples = RM.shape[0]\n",
    "    results = []                                 # (score,start_idx,end_idx)\n",
    "    for i in range(num_samples):\n",
    "        results.append(highest_x(RM_sum[i,:],w=w,p=p))\n",
    "\n",
    "    results_dim = []                            # (4*5) flatten vector\n",
    "    data = []\n",
    "    index = []\n",
    "    k = k\n",
    "    for j in range(num_samples):\n",
    "        seq = results[0]\n",
    "        new_dict ={}\n",
    "        for i in range(1,k+1):\n",
    "            start_idx = seq.get(i)[1]\n",
    "            end_idx = seq.get(i)[2]\n",
    "            tmp = RM[j,:,start_idx:end_idx+1] # shape like(4,w)\n",
    "            tmp = tmp.T.flatten()                # flatten into (4W)\n",
    "            new_dict[i]=tmp\n",
    "\n",
    "            data.append(tmp)\n",
    "            index.append('%d_%d'%(j,i))\n",
    "        results_dim.append(new_dict)\n",
    "\n",
    "    df = pd.DataFrame(data=data,index=index)  # form dataframe\n",
    "\n",
    "    class_labels = reduction_clustering(df)\n",
    "\n",
    "    index_dict= result_idx(results,df,class_labels)  # remember the idx of each sample\n",
    "\n",
    "    seqs_dict = read_seq_all(index_dict,raw_seqs)\n",
    "\n",
    "    pwm_weights_dict = {}\n",
    "    for k, v in seqs_dict.items():\n",
    "        pwm_weights_dict[k] = pwm(pfm(v),w)\n",
    "\n",
    "    return pwm_weights_dict"
   ]
  },
  {
   "cell_type": "code",
   "execution_count": 93,
   "metadata": {
    "scrolled": true
   },
   "outputs": [
    {
     "data": {
      "text/plain": [
       "(5, 4, 51)"
      ]
     },
     "execution_count": 93,
     "metadata": {},
     "output_type": "execute_result"
    }
   ],
   "source": [
    "hm6Am.shape"
   ]
  },
  {
   "cell_type": "code",
   "execution_count": 118,
   "metadata": {},
   "outputs": [],
   "source": [
    "seqs.remove('')"
   ]
  },
  {
   "cell_type": "code",
   "execution_count": 120,
   "metadata": {},
   "outputs": [
    {
     "data": {
      "text/plain": [
       "['TTTCTTGTGGCTGCTGTAACAAAGCAAGCAAATTGGGTGGCTTAGAACAGT',\n",
       " 'TTTTTAGTAGAGACGGGGTTTCACCAGGTTGGTCAGGCTGGTCTCAAACTC',\n",
       " 'GCCACTTTGAAATAATGTGCTACTCAATCTCAGCAACCAAAAACCATTATC',\n",
       " 'GAGATGGGGTTTCACCATGTTGGCCAGGCTGGTCTCGAACTCCTGACCTCA',\n",
       " 'AGAAATATATTTGTATTGAATTCTCAGCAACTTTAATGTTAAATGTGCACA']"
      ]
     },
     "execution_count": 120,
     "metadata": {},
     "output_type": "execute_result"
    }
   ],
   "source": [
    "seqs"
   ]
  },
  {
   "cell_type": "code",
   "execution_count": 192,
   "metadata": {},
   "outputs": [
    {
     "data": {
      "text/plain": [
       "{0: array([[-0.21456931,  0.50038377,  0.97627286,  0.50038377,  0.50038377],\n",
       "        [-1.69424191, -1.69424191, -1.69424191, -1.69424191, -1.69424191],\n",
       "        [-0.21456931, -1.69424191, -1.69424191, -1.69424191, -1.69424191],\n",
       "        [-0.21456931, -0.21456931, -1.69424191, -0.21456931, -0.21456931]]),\n",
       " 1: array([[ 1.33351683,  1.61962383,  0.50038377,  1.61962383,  1.61962383],\n",
       "        [-0.21456931, -0.21456931,  0.50038377, -1.69424191,  0.50038377],\n",
       "        [-0.21456931, -1.69424191, -0.21456931,  0.97627286, -0.21456931],\n",
       "        [ 1.33351683,  1.33351683,  1.61962383,  0.50038377,  0.50038377]]),\n",
       " 2: array([[ 0.50038377, -0.21456931,  0.50038377, -0.21456931, -0.21456931],\n",
       "        [-1.69424191, -0.21456931, -1.69424191, -1.69424191, -1.69424191],\n",
       "        [-1.69424191, -1.69424191, -1.69424191, -1.69424191, -0.21456931],\n",
       "        [-1.69424191, -1.69424191, -1.69424191, -0.21456931, -1.69424191]])}"
      ]
     },
     "execution_count": 192,
     "metadata": {},
     "output_type": "execute_result"
    }
   ],
   "source": [
    "cal_consensus_motif(atoi,raw_seqs)"
   ]
  },
  {
   "cell_type": "code",
   "execution_count": 79,
   "metadata": {},
   "outputs": [],
   "source": [
    "file_1 = h5py.File('./Seqs/nucleo_test_51.h5','r')"
   ]
  },
  {
   "cell_type": "code",
   "execution_count": 80,
   "metadata": {},
   "outputs": [],
   "source": [
    "file_2 = h5py.File('./Seqs/ig_test_51.h5','r')"
   ]
  },
  {
   "cell_type": "code",
   "execution_count": 115,
   "metadata": {},
   "outputs": [
    {
     "data": {
      "text/plain": [
       "array([b'CAAGTTGTATTATAATTATGAGTTAAAATACATGCAAAGTAAATAGAGAAA',\n",
       "       b'AAAGGGTAGTATTTGATTTTTCTGAAGTATTTTCATTAATTAAAAGGAGTT',\n",
       "       b'CATAATACCATTGAATGGCACAGTTAAAAATGATTAAAATGGTACATTGGG',\n",
       "       b'CTACTTTTGCTATTTTTTAAAAAATAAAATTTATTTTTACTTCTTATTTTC',\n",
       "       b'ATATAGCCATTACTAACTTAAGTATAGATTTATTATACTGAATGATTATTT'],\n",
       "      dtype='|S51')"
      ]
     },
     "execution_count": 115,
     "metadata": {},
     "output_type": "execute_result"
    }
   ],
   "source": [
    "raw_seqs = file_1['Atol'][:]\n",
    "raw_seqs"
   ]
  },
  {
   "cell_type": "code",
   "execution_count": 86,
   "metadata": {},
   "outputs": [
    {
     "data": {
      "text/plain": [
       "(5, 4, 51)"
      ]
     },
     "execution_count": 86,
     "metadata": {},
     "output_type": "execute_result"
    }
   ],
   "source": [
    "atoi = file_2['Atol'][:]\n",
    "atoi.shape"
   ]
  },
  {
   "cell_type": "code",
   "execution_count": 116,
   "metadata": {},
   "outputs": [],
   "source": [
    "raw_seqs = [seq.decode('UTF-8') for seq in raw_seqs]"
   ]
  },
  {
   "cell_type": "code",
   "execution_count": 117,
   "metadata": {},
   "outputs": [
    {
     "data": {
      "text/plain": [
       "['CAAGTTGTATTATAATTATGAGTTAAAATACATGCAAAGTAAATAGAGAAA',\n",
       " 'AAAGGGTAGTATTTGATTTTTCTGAAGTATTTTCATTAATTAAAAGGAGTT',\n",
       " 'CATAATACCATTGAATGGCACAGTTAAAAATGATTAAAATGGTACATTGGG',\n",
       " 'CTACTTTTGCTATTTTTTAAAAAATAAAATTTATTTTTACTTCTTATTTTC',\n",
       " 'ATATAGCCATTACTAACTTAAGTATAGATTTATTATACTGAATGATTATTT']"
      ]
     },
     "execution_count": 117,
     "metadata": {},
     "output_type": "execute_result"
    }
   ],
   "source": [
    "#raw_seqs.append('')\n",
    "raw_seqs"
   ]
  },
  {
   "cell_type": "code",
   "execution_count": 121,
   "metadata": {},
   "outputs": [
    {
     "data": {
      "text/plain": [
       "['TTTCTTGTGGCTGCTGTAACAAAGCAAGCAAATTGGGTGGCTTAGAACAGT',\n",
       " 'TTTTTAGTAGAGACGGGGTTTCACCAGGTTGGTCAGGCTGGTCTCAAACTC',\n",
       " 'GCCACTTTGAAATAATGTGCTACTCAATCTCAGCAACCAAAAACCATTATC',\n",
       " 'GAGATGGGGTTTCACCATGTTGGCCAGGCTGGTCTCGAACTCCTGACCTCA',\n",
       " 'AGAAATATATTTGTATTGAATTCTCAGCAACTTTAATGTTAAATGTGCACA']"
      ]
     },
     "execution_count": 121,
     "metadata": {},
     "output_type": "execute_result"
    }
   ],
   "source": [
    "seqs"
   ]
  },
  {
   "cell_type": "code",
   "execution_count": 107,
   "metadata": {},
   "outputs": [],
   "source": [
    "from util_cm import cal_consensus_motif"
   ]
  },
  {
   "cell_type": "code",
   "execution_count": 195,
   "metadata": {},
   "outputs": [],
   "source": [
    "my_dict = cal_consensus_motif(atoi,raw_seqs)"
   ]
  },
  {
   "cell_type": "code",
   "execution_count": 202,
   "metadata": {},
   "outputs": [
    {
     "data": {
      "text/plain": [
       "(3, 4, 5)"
      ]
     },
     "execution_count": 202,
     "metadata": {},
     "output_type": "execute_result"
    }
   ],
   "source": [
    "out = []\n",
    "for k,v in my_dict.items():\n",
    "    out.append(np.expand_dims(v,axis=0))\n",
    "np.concatenate(out,axis=0).shape"
   ]
  },
  {
   "cell_type": "code",
   "execution_count": 127,
   "metadata": {},
   "outputs": [
    {
     "data": {
      "text/plain": [
       "(5, 4, 51)"
      ]
     },
     "execution_count": 127,
     "metadata": {},
     "output_type": "execute_result"
    }
   ],
   "source": [
    "atoi.shape"
   ]
  },
  {
   "cell_type": "code",
   "execution_count": 128,
   "metadata": {},
   "outputs": [
    {
     "data": {
      "text/plain": [
       "(5, 4, 51)"
      ]
     },
     "execution_count": 128,
     "metadata": {},
     "output_type": "execute_result"
    }
   ],
   "source": [
    "hm6Am.shape"
   ]
  },
  {
   "cell_type": "code",
   "execution_count": 3,
   "metadata": {},
   "outputs": [],
   "source": [
    "from Bio import motifs\n",
    "from Bio.Seq import Seq"
   ]
  },
  {
   "cell_type": "code",
   "execution_count": 6,
   "metadata": {},
   "outputs": [],
   "source": [
    "instances = [Seq(\"-TACAA-\"),\n",
    "...              Seq(\"-TACGC-\"),\n",
    "...              Seq(\"-TACAC-\"),\n",
    "...              Seq(\"TACCC--\"),\n",
    "...              Seq(\"AACCC--\"),\n",
    "...              Seq(\"AATGC--\"),\n",
    "...              Seq(\"--AATGC\"),\n",
    "...             ]"
   ]
  },
  {
   "cell_type": "code",
   "execution_count": 8,
   "metadata": {},
   "outputs": [],
   "source": [
    "import pandas as pd"
   ]
  },
  {
   "cell_type": "code",
   "execution_count": 10,
   "metadata": {},
   "outputs": [],
   "source": [
    "test = pd.read_csv('./Seqs/valid_hUm_51_3_aligned.csv',header=None)[0][0:15]"
   ]
  },
  {
   "cell_type": "code",
   "execution_count": 15,
   "metadata": {},
   "outputs": [
    {
     "data": {
      "text/plain": [
       "array([[ 0.,  0.,  0.,  1.,  0.,  0.],\n",
       "       [ 0.,  0.,  5.,  4.,  0.,  0.],\n",
       "       [ 0.,  0.,  0.,  1.,  0.,  0.],\n",
       "       [ 0., 15., 10.,  9.,  0.,  0.]])"
      ]
     },
     "execution_count": 15,
     "metadata": {},
     "output_type": "execute_result"
    }
   ],
   "source": [
    "pfm(test)"
   ]
  },
  {
   "cell_type": "code",
   "execution_count": 22,
   "metadata": {},
   "outputs": [
    {
     "name": "stdout",
     "output_type": "stream",
     "text": [
      "[[0.05130327 0.05130327 0.05130327 0.10428907 0.05130327 0.05130327]\n",
      " [0.05130327 0.05130327 0.31623224 0.26324645 0.05130327 0.05130327]\n",
      " [0.05130327 0.05130327 0.05130327 0.10428907 0.05130327 0.05130327]\n",
      " [0.05130327 0.84609018 0.58116121 0.52817542 0.05130327 0.05130327]]\n"
     ]
    },
    {
     "data": {
      "text/plain": [
       "array([[-2.28480529, -2.28480529, -2.28480529, -1.26134016, -2.28480529,\n",
       "        -2.28480529],\n",
       "       [-2.28480529, -2.28480529,  0.33905637,  0.07448597, -2.28480529,\n",
       "        -2.28480529],\n",
       "       [-2.28480529, -2.28480529, -2.28480529, -1.26134016, -2.28480529,\n",
       "        -2.28480529],\n",
       "       [-2.28480529,  1.75888334,  1.21701032,  1.07908906, -2.28480529,\n",
       "        -2.28480529]])"
      ]
     },
     "execution_count": 22,
     "metadata": {},
     "output_type": "execute_result"
    }
   ],
   "source": [
    "pwm(pfm(test))"
   ]
  },
  {
   "cell_type": "code",
   "execution_count": 24,
   "metadata": {},
   "outputs": [
    {
     "name": "stdout",
     "output_type": "stream",
     "text": [
      "[[0.05130327 0.05130327 0.05130327 0.10428907 0.05130327 0.05130327]\n",
      " [0.05130327 0.05130327 0.31623224 0.26324645 0.05130327 0.05130327]\n",
      " [0.05130327 0.05130327 0.05130327 0.10428907 0.05130327 0.05130327]\n",
      " [0.05130327 0.84609018 0.58116121 0.52817542 0.05130327 0.05130327]]\n"
     ]
    },
    {
     "data": {
      "text/plain": [
       "array([[-2.28480529, -2.28480529, -2.28480529, -1.26134016, -2.28480529,\n",
       "        -2.28480529],\n",
       "       [-2.28480529, -2.28480529,  0.33905637,  0.07448597, -2.28480529,\n",
       "        -2.28480529],\n",
       "       [-2.28480529, -2.28480529, -2.28480529, -1.26134016, -2.28480529,\n",
       "        -2.28480529],\n",
       "       [-2.28480529,  1.75888334,  1.21701032,  1.07908906, -2.28480529,\n",
       "        -2.28480529]])"
      ]
     },
     "execution_count": 24,
     "metadata": {},
     "output_type": "execute_result"
    }
   ],
   "source": [
    "pwm(pfm(test))"
   ]
  },
  {
   "cell_type": "code",
   "execution_count": 32,
   "metadata": {},
   "outputs": [],
   "source": [
    "import pandas as pd\n",
    "import numpy as np\n",
    "import math\n",
    "import matplotlib.pyplot as plt"
   ]
  },
  {
   "cell_type": "code",
   "execution_count": 21,
   "metadata": {},
   "outputs": [],
   "source": [
    "from sklearn.cluster import DBSCAN\n",
    "from sklearn.cluster import SpectralClustering\n",
    "from sklearn.decomposition import PCA\n",
    "from sklearn.manifold import TSNE"
   ]
  },
  {
   "cell_type": "code",
   "execution_count": 74,
   "metadata": {},
   "outputs": [],
   "source": [
    "import umap"
   ]
  },
  {
   "cell_type": "code",
   "execution_count": 18,
   "metadata": {},
   "outputs": [],
   "source": [
    "def to_onehot(seq):\n",
    "    length = len(seq)\n",
    "    out = np.zeros((4,length))\n",
    "    for i in range(length):\n",
    "        if seq[i] == \"A\":\n",
    "            out[0,i] = 1\n",
    "        elif seq[i] == 'C':\n",
    "            out[1,i] = 1\n",
    "        elif seq[i] == 'G':\n",
    "            out[2,i] = 1\n",
    "        elif seq[i] == 'T' or seq[i] == 'U':\n",
    "            out[3,i] = 1\n",
    "        elif seq[i] == '-':\n",
    "            out[:,i] = np.array([0.25,0.25,0.25,0.25])\n",
    "    return out\n",
    "\n",
    "def reduction_clustering(df,n_clusters=6):\n",
    "    Y = PCA(n_components=2).fit_transform(df)\n",
    "    clustering = SpectralClustering(n_clusters=n_clusters,assign_labels=\"discretize\",random_state=0).fit(Y)\n",
    "    cluster_labels = clustering.labels_\n",
    "    return cluster_labels"
   ]
  },
  {
   "cell_type": "code",
   "execution_count": 24,
   "metadata": {},
   "outputs": [],
   "source": [
    "def calculate_kn_distance(X,k):\n",
    "\n",
    "    kn_distance = []\n",
    "    for i in range(len(X)):\n",
    "        eucl_dist = []\n",
    "        for j in range(len(X)):\n",
    "            eucl_dist.append(\n",
    "                math.sqrt(\n",
    "                    ((X[i,0] - X[j,0]) ** 2) +\n",
    "                    ((X[i,1] - X[j,1]) ** 2)))\n",
    "\n",
    "        eucl_dist.sort()\n",
    "        kn_distance.append(eucl_dist[k])\n",
    "\n",
    "    return kn_distance"
   ]
  },
  {
   "cell_type": "code",
   "execution_count": 4,
   "metadata": {},
   "outputs": [],
   "source": [
    "seqs = pd.read_csv('./Seqs/valid_hm6A_51_6_aligned.csv',header=None)[0]"
   ]
  },
  {
   "cell_type": "code",
   "execution_count": 6,
   "metadata": {},
   "outputs": [],
   "source": [
    "scores = pd.read_csv('./Seqs/valid_hm6A_51_6_score.csv',header=None)[0]"
   ]
  },
  {
   "cell_type": "code",
   "execution_count": 10,
   "metadata": {},
   "outputs": [],
   "source": [
    "data = []\n",
    "for i in range(len(seqs)):\n",
    "    tmp = to_onehot(seqs[i]).T.flatten()\n",
    "    data.append(tmp)"
   ]
  },
  {
   "cell_type": "code",
   "execution_count": 75,
   "metadata": {},
   "outputs": [],
   "source": [
    "df = pd.DataFrame(data=data,index=list(range(len(seqs))))"
   ]
  },
  {
   "cell_type": "code",
   "execution_count": 76,
   "metadata": {},
   "outputs": [],
   "source": [
    "Y = umap.UMAP(n_components=2).fit_transform(df)"
   ]
  },
  {
   "cell_type": "code",
   "execution_count": 23,
   "metadata": {},
   "outputs": [],
   "source": [
    "Y = PCA(n_components=2).fit_transform(df)"
   ]
  },
  {
   "cell_type": "code",
   "execution_count": 77,
   "metadata": {},
   "outputs": [
    {
     "data": {
      "text/plain": [
       "[0.382242500214195,\n",
       " 0.4101718069288662,\n",
       " 0.37848809655509624,\n",
       " 0.541510201736137,\n",
       " 0.34849524503857837,\n",
       " 0.3626132825172802,\n",
       " 0.3014379398098862,\n",
       " 0.32968041088380357,\n",
       " 0.32481456390847735,\n",
       " 0.32481456390847735,\n",
       " 0.5051974625466524,\n",
       " 0.5633396239315185,\n",
       " 0.33249630322961476,\n",
       " 0.33807677845134876,\n",
       " 0.3556446506523692,\n",
       " 0.6199474845581181,\n",
       " 0.6142012073581846,\n",
       " 0.6747424580151288,\n",
       " 0.5816464117068475,\n",
       " 0.717441038431248,\n",
       " 0.629987500443645,\n",
       " 0.6672391203429945,\n",
       " 0.49095318165962926,\n",
       " 0.46138550569822967,\n",
       " 0.5284256453611812,\n",
       " 0.6261668156840998,\n",
       " 0.5271916449202005,\n",
       " 0.9104253379087415,\n",
       " 0.9559118707294892,\n",
       " 0.794293107443197,\n",
       " 0.6613383851619161,\n",
       " 0.5009569719493779,\n",
       " 0.6286960042751316,\n",
       " 0.5575375760903578,\n",
       " 0.4991843834538892,\n",
       " 0.5291109263121387,\n",
       " 0.4331666247202399,\n",
       " 0.44706941680618756,\n",
       " 0.4080312474351604,\n",
       " 0.5409482273545351,\n",
       " 0.32788974224441036,\n",
       " 0.4832224296610462,\n",
       " 0.4953313761869473,\n",
       " 0.374578752379619,\n",
       " 0.35762770914934494,\n",
       " 0.3596366190236739,\n",
       " 0.4879001119838915,\n",
       " 0.42691663645494066,\n",
       " 0.4331666247202399,\n",
       " 0.519989592637504,\n",
       " 0.4932972646497833,\n",
       " 0.622051021485575,\n",
       " 0.36771803885229226,\n",
       " 0.30308724796435604,\n",
       " 0.5344107628991649,\n",
       " 0.563618086548651,\n",
       " 0.6897748684457996,\n",
       " 0.3735078302447918,\n",
       " 0.39126979523652694,\n",
       " 0.5907453147464948,\n",
       " 0.46704697747883683,\n",
       " 0.4672909786431001,\n",
       " 0.4932972646497833,\n",
       " 0.4129876956496635,\n",
       " 0.4383152286496181,\n",
       " 0.3368390486413381,\n",
       " 0.370499371119839,\n",
       " 0.2927951740838604,\n",
       " 0.3735078302447918,\n",
       " 0.46357767763475616,\n",
       " 0.4632205506641151,\n",
       " 0.46016171307928416,\n",
       " 0.6197035091854722,\n",
       " 0.29205025004008384,\n",
       " 0.3846641412612145,\n",
       " 0.43782953889039233,\n",
       " 0.5490518312290726,\n",
       " 0.47758400559451686,\n",
       " 0.43075007725855813,\n",
       " 0.4762984143518248,\n",
       " 0.5371546219907728,\n",
       " 0.5293298922878139,\n",
       " 0.4475466926359122,\n",
       " 0.4078082881914891,\n",
       " 0.46690592103508743,\n",
       " 0.7335523270816011,\n",
       " 0.5133845776208933,\n",
       " 0.6362472430336313,\n",
       " 0.7328196142180432,\n",
       " 0.696178550878255,\n",
       " 0.6539253399041925,\n",
       " 0.604992870182745,\n",
       " 0.6778322873556107,\n",
       " 0.6698076673495845,\n",
       " 0.6543112903051637,\n",
       " 0.5344336929711081,\n",
       " 0.5323355909222385,\n",
       " 0.4664914002559436,\n",
       " 0.4580908442699141,\n",
       " 0.48128710402999614,\n",
       " 0.4664914002559436,\n",
       " 0.7229067026622985,\n",
       " 0.6506149175858906,\n",
       " 0.6161522364707983,\n",
       " 0.4433259622533297,\n",
       " 0.4922428928368724,\n",
       " 0.585695347512783,\n",
       " 0.3826095106769655,\n",
       " 0.5310665514413647,\n",
       " 0.4433259622533297,\n",
       " 0.5530265711542823,\n",
       " 0.4894069194098001,\n",
       " 0.6220138185982439,\n",
       " 0.6519400524112634,\n",
       " 0.7074958160621625,\n",
       " 0.6876312159279814,\n",
       " 0.3342183667233037,\n",
       " 0.3705149669605335,\n",
       " 0.5832793877606582,\n",
       " 0.5479230308803912,\n",
       " 0.4862918429134777,\n",
       " 0.547889548673182,\n",
       " 0.7387172367293259,\n",
       " 0.6891242272534369,\n",
       " 0.4570135488060306,\n",
       " 0.39887002077835415,\n",
       " 0.546644556347106,\n",
       " 0.1905372659728585,\n",
       " 0.31269136787458446,\n",
       " 0.43255555792247025,\n",
       " 0.33938064690300923,\n",
       " 0.39887002077835415,\n",
       " 0.3719318085187304,\n",
       " 0.2748886779111324,\n",
       " 0.21529639113084198,\n",
       " 0.37754797490906344,\n",
       " 0.43255555792247025,\n",
       " 0.29205025004008384,\n",
       " 0.33023540186518974,\n",
       " 0.2681610837042293,\n",
       " 0.30708178487477233,\n",
       " 0.45426551497618656,\n",
       " 0.70033223325307,\n",
       " 0.5937020200141455,\n",
       " 0.6698076673495845,\n",
       " 0.8013689943378913,\n",
       " 0.7463518370901588,\n",
       " 0.6585197046239326,\n",
       " 0.8954398809687174,\n",
       " 0.8910137704404886]"
      ]
     },
     "execution_count": 77,
     "metadata": {},
     "output_type": "execute_result"
    }
   ],
   "source": [
    "calculate_kn_distance(Y,5)"
   ]
  },
  {
   "cell_type": "code",
   "execution_count": 88,
   "metadata": {},
   "outputs": [
    {
     "data": {
      "text/plain": [
       "array([ 0,  0,  0,  0,  0,  1,  1,  1,  1,  1,  1,  1,  1,  1,  1,  2,  2,\n",
       "       -1,  2, -1, -1,  3,  3,  0,  0,  0,  0,  3,  3,  3, -1,  3,  4,  4,\n",
       "        3,  5,  5,  5,  5,  5,  3,  3,  3,  3,  3,  3,  3,  5,  5,  3,  3,\n",
       "        5,  3,  3,  3,  3,  5,  3,  3,  5,  3,  3,  3,  3,  3,  3,  3,  3,\n",
       "        3,  3,  3,  3,  4,  4,  4,  4,  0,  4,  0,  0,  0,  0,  6,  6,  6,\n",
       "        7,  7,  7, -1,  7, -1,  7, -1, -1,  6,  6,  6,  6,  6,  6,  6,  8,\n",
       "        8,  8,  8,  8, -1,  9,  8,  8,  8,  8,  8, -1, -1, -1,  8,  8, 10,\n",
       "       10,  8, 10, 10, 10, 10,  8,  9,  9,  9,  4,  4,  8,  8,  9,  9,  9,\n",
       "        4,  4,  9,  9,  4,  4, -1,  4, -1, -1, -1,  6, -1, -1],\n",
       "      dtype=int64)"
      ]
     },
     "execution_count": 88,
     "metadata": {},
     "output_type": "execute_result"
    }
   ],
   "source": [
    "clustering = DBSCAN(eps=0.5,min_samples=5).fit(Y)\n",
    "#clustering = SpectralClustering(n_clusters=6,assign_labels=\"discretize\",random_state=0).fit(Y)\n",
    "clustering.labels_"
   ]
  },
  {
   "cell_type": "code",
   "execution_count": 89,
   "metadata": {},
   "outputs": [
    {
     "data": {
      "text/plain": [
       "(1, 8)"
      ]
     },
     "execution_count": 89,
     "metadata": {},
     "output_type": "execute_result"
    },
    {
     "data": {
      "image/png": "[encoded data removed]",
      "text/plain": [
       "<Figure size 432x288 with 1 Axes>"
      ]
     },
     "metadata": {
      "needs_background": "light"
     },
     "output_type": "display_data"
    }
   ],
   "source": [
    "ax = plt.subplot(111)\n",
    "scatter = ax.scatter(x=Y[:,0],y=Y[:,1],c=clustering.labels_)\n",
    "legend1 = ax.legend(*scatter.legend_elements(num=len(np.unique(clustering.labels_))),\n",
    "                    loc=\"best\", title=\"clustering\")\n",
    "ax.add_artist(legend1)\n",
    "# ax.set_xlim([-150,150])\n",
    "ax.set_xlim([1,8])"
   ]
  },
  {
   "cell_type": "code",
   "execution_count": 55,
   "metadata": {},
   "outputs": [
    {
     "name": "stderr",
     "output_type": "stream",
     "text": [
      "No handles with labels found to put in legend.\n"
     ]
    },
    {
     "data": {
      "text/plain": [
       "<matplotlib.legend.Legend at 0x1e19e580108>"
      ]
     },
     "execution_count": 55,
     "metadata": {},
     "output_type": "execute_result"
    },
    {
     "data": {
      "image/png": "[encoded data removed]",
      "text/plain": [
       "<Figure size 432x288 with 1 Axes>"
      ]
     },
     "metadata": {
      "needs_background": "light"
     },
     "output_type": "display_data"
    }
   ],
   "source": [
    "ax = plt.subplot(111)\n",
    "ax.scatter(x=Y[:,0],y=Y[:,1],c=clustering.labels_)\n",
    "ax.legend()\n",
    "# ax.set_xlim([-150,150])\n",
    "# ax.set_ylim([-150,150])"
   ]
  },
  {
   "cell_type": "code",
   "execution_count": 53,
   "metadata": {},
   "outputs": [
    {
     "name": "stdout",
     "output_type": "stream",
     "text": [
      "class:0 score:0.30654\n",
      "82     --TTAAAC----\n",
      "83     --TTAAAC----\n",
      "84     --TTAACC----\n",
      "94     ---CAAAGA---\n",
      "95     ----AAAAAG--\n",
      "96     ----AAAAAG--\n",
      "97     ---TAAAAA---\n",
      "98     ---TAAACA---\n",
      "99     ---TAAACA---\n",
      "100    ---TAAACA---\n",
      "101    ---AAAACA---\n",
      "102    ---AAAACA---\n",
      "103    ---AAAACA---\n",
      "104    --TAAAAC----\n",
      "105    --TAAAAC----\n",
      "106    ---GAAACA---\n",
      "107    ---GAAACT---\n",
      "108    ---AAAACC---\n",
      "109    ---AAAACC---\n",
      "110    ---AAAACC---\n",
      "111    ----AAACCG--\n",
      "112    ---GAAACC---\n",
      "113    --TGAAAT----\n",
      "114    --TGAAAG----\n",
      "115    --TGAAAC----\n",
      "116    -----AACCAA-\n",
      "117    ----GAACCA--\n",
      "118    ----AAACAA--\n",
      "119    ----GAACAA--\n",
      "120    ---TGAACC---\n",
      "121    --TTGAAC----\n",
      "122    ---AGAACA---\n",
      "123    ---AGAACA---\n",
      "124    ---TGAACA---\n",
      "125    ---GGAACC---\n",
      "126    ---GGAACT---\n",
      "127    ----AAACTT--\n",
      "128    ----AAACTT--\n",
      "131    -----AACCTT-\n",
      "132    ----GAACCT--\n",
      "133    ---CAAACT---\n",
      "134    ---CAAACT---\n",
      "135    --GCAAAC----\n",
      "138    ----AAACTG--\n",
      "139    ----AAACTG--\n",
      "Name: 0, dtype: object\n",
      "class:1 score:0.35253\n",
      "30    --GAGGAA----\n",
      "31    --CATGAA----\n",
      "34    --GGTGAA----\n",
      "40    ---ATGACA---\n",
      "41    ----TGAGAA--\n",
      "42    ----TGACAA--\n",
      "43    ---CTGACA---\n",
      "44    ---CTGACA---\n",
      "45    ---GTGACA---\n",
      "46    ---TTGACA---\n",
      "57    --TCTGAC----\n",
      "58    --TATGAC----\n",
      "60    ----TGACTC--\n",
      "63    ---TTGACC---\n",
      "64    ---CTGACC---\n",
      "65    ---CTGACC---\n",
      "66    ---CTGACC---\n",
      "67    ---GTGACC---\n",
      "68    ---ATGACC---\n",
      "69    --GTTGAC----\n",
      "70    -GGTTGA-----\n",
      "Name: 0, dtype: object\n",
      "class:2 score:0.38168\n",
      "0     -GAAGTG-----\n",
      "5     -TGTCTG-----\n",
      "6     -TTTCTG-----\n",
      "7     --ATCTGC----\n",
      "8     --CGCTGT----\n",
      "9     ----CTGTAT--\n",
      "10    --CTTTTT----\n",
      "12    --TTCTTT----\n",
      "13    ---TTTGTT---\n",
      "14    -ATTTTG-----\n",
      "15    ---TTATTG---\n",
      "23    --AGGTGG----\n",
      "24    --AGGAGG----\n",
      "26    --TGTAGG----\n",
      "76    TAAGTA------\n",
      "Name: 0, dtype: object\n",
      "class:3 score:0.27925\n",
      "35    ----AGACAC--\n",
      "36    ----AGACAG--\n",
      "37    ---AAGACA---\n",
      "38    ---AAGACA---\n",
      "39    ---AGGACA---\n",
      "47    --CAAGAC----\n",
      "48    ---AAGACT---\n",
      "49    ---AAGACC---\n",
      "50    ---GAGACC---\n",
      "51    ---GAGACT---\n",
      "52    ---CAGAAC---\n",
      "53    ---CAGACC---\n",
      "54    -CTCAGA-----\n",
      "55    --TCAGAC----\n",
      "56    ---CACACA---\n",
      "59    -----GACTGA-\n",
      "61    ---TAGACC---\n",
      "62    ---TGGACC---\n",
      "Name: 0, dtype: object\n",
      "class:4 score:0.24854\n",
      "1      -GAATTG-----\n",
      "2      ---ATTGCT---\n",
      "3      ---ATTGCC---\n",
      "11     --CTTTTC----\n",
      "16     ---TTTATA---\n",
      "17     -ACTTCA-----\n",
      "18     -ACTTCT-----\n",
      "19     TAGTTC------\n",
      "21     ----TGGGAC--\n",
      "22     ---ATGTGA---\n",
      "25     --AGTGGG----\n",
      "27     ----TGGTAA--\n",
      "28     --CATGGT----\n",
      "29     ---ATGGAA---\n",
      "71     ---TTGAGT---\n",
      "142    ----TTCCAA--\n",
      "Name: 0, dtype: object\n",
      "class:5 score:0.28095\n",
      "4      ---AGTGCC---\n",
      "20     --ATTCAC----\n",
      "32     ---GTAAAC---\n",
      "33     ---GTAAAT---\n",
      "72     ---ATTACT---\n",
      "73     ---ATAACT---\n",
      "74     --CATAAC----\n",
      "75     --AATAAC----\n",
      "77     --AGTAAC----\n",
      "78     ---GTAGCA---\n",
      "79     ----TAGCAG--\n",
      "80     ----TAGCAA--\n",
      "81     --TATAGC----\n",
      "85     --TTTAAC----\n",
      "86     -GTTTAA-----\n",
      "87     ---TTAACA---\n",
      "88     ---TTAACA---\n",
      "89     ----TAATAT--\n",
      "90     ----TAATGT--\n",
      "91     ----TAATAC--\n",
      "92     ---CTAAGC---\n",
      "93     --TCTAAG----\n",
      "129    ----TAACTT--\n",
      "130    ----TAACTT--\n",
      "136    ---CTATCT---\n",
      "137    ---CTAACT---\n",
      "140    ----TAACTG--\n",
      "141    ----TACCTA--\n",
      "143    ----TTACGA--\n",
      "144    -----TCCTCC-\n",
      "145    ----ATCCTC--\n",
      "146    ------CCTCGT\n",
      "147    -----ACCACC-\n",
      "148    -----TACATG-\n",
      "149    -----CACATG-\n",
      "Name: 0, dtype: object\n"
     ]
    }
   ],
   "source": [
    "for i in np.unique(clustering.labels_):\n",
    "    if i != -1:\n",
    "        class_seqs = seqs[clustering.labels_==i]\n",
    "        class_scores = scores[clustering.labels_==i]\n",
    "        avg_scores = np.sum(class_scores) / len(class_seqs)\n",
    "        print('class:%d score:%.5f'%(i,avg_scores))\n",
    "        print(class_seqs)"
   ]
  },
  {
   "cell_type": "code",
   "execution_count": 82,
   "metadata": {},
   "outputs": [
    {
     "name": "stdout",
     "output_type": "stream",
     "text": [
      "class:0 score:0.31371\n",
      "0     -GAAGTG-----\n",
      "1     -GAATTG-----\n",
      "2     ---ATTGCT---\n",
      "3     ---ATTGCC---\n",
      "4     ---AGTGCC---\n",
      "23    --AGGTGG----\n",
      "24    --AGGAGG----\n",
      "25    --AGTGGG----\n",
      "26    --TGTAGG----\n",
      "76    TAAGTA------\n",
      "78    ---GTAGCA---\n",
      "79    ----TAGCAG--\n",
      "80    ----TAGCAA--\n",
      "81    --TATAGC----\n",
      "Name: 0, dtype: object\n",
      "class:1 score:0.34234\n",
      "5     -TGTCTG-----\n",
      "6     -TTTCTG-----\n",
      "7     --ATCTGC----\n",
      "8     --CGCTGT----\n",
      "9     ----CTGTAT--\n",
      "10    --CTTTTT----\n",
      "11    --CTTTTC----\n",
      "12    --TTCTTT----\n",
      "13    ---TTTGTT---\n",
      "14    -ATTTTG-----\n",
      "Name: 0, dtype: object\n",
      "class:2 score:0.42798\n",
      "15    ---TTATTG---\n",
      "16    ---TTTATA---\n",
      "18    -ACTTCT-----\n",
      "Name: 0, dtype: object\n",
      "class:3 score:0.30673\n",
      "21    ----TGGGAC--\n",
      "22    ---ATGTGA---\n",
      "27    ----TGGTAA--\n",
      "28    --CATGGT----\n",
      "29    ---ATGGAA---\n",
      "31    --CATGAA----\n",
      "34    --GGTGAA----\n",
      "40    ---ATGACA---\n",
      "41    ----TGAGAA--\n",
      "42    ----TGACAA--\n",
      "43    ---CTGACA---\n",
      "44    ---CTGACA---\n",
      "45    ---GTGACA---\n",
      "46    ---TTGACA---\n",
      "49    ---AAGACC---\n",
      "50    ---GAGACC---\n",
      "52    ---CAGAAC---\n",
      "53    ---CAGACC---\n",
      "54    -CTCAGA-----\n",
      "55    --TCAGAC----\n",
      "57    --TCTGAC----\n",
      "58    --TATGAC----\n",
      "60    ----TGACTC--\n",
      "61    ---TAGACC---\n",
      "62    ---TGGACC---\n",
      "63    ---TTGACC---\n",
      "64    ---CTGACC---\n",
      "65    ---CTGACC---\n",
      "66    ---CTGACC---\n",
      "67    ---GTGACC---\n",
      "68    ---ATGACC---\n",
      "69    --GTTGAC----\n",
      "70    -GGTTGA-----\n",
      "71    ---TTGAGT---\n",
      "Name: 0, dtype: object\n",
      "class:4 score:0.26202\n",
      "32     ---GTAAAC---\n",
      "33     ---GTAAAT---\n",
      "72     ---ATTACT---\n",
      "73     ---ATAACT---\n",
      "74     --CATAAC----\n",
      "75     --AATAAC----\n",
      "77     --AGTAAC----\n",
      "129    ----TAACTT--\n",
      "130    ----TAACTT--\n",
      "136    ---CTATCT---\n",
      "137    ---CTAACT---\n",
      "140    ----TAACTG--\n",
      "141    ----TACCTA--\n",
      "143    ----TTACGA--\n",
      "Name: 0, dtype: object\n",
      "class:5 score:0.26947\n",
      "35    ----AGACAC--\n",
      "36    ----AGACAG--\n",
      "37    ---AAGACA---\n",
      "38    ---AAGACA---\n",
      "39    ---AGGACA---\n",
      "47    --CAAGAC----\n",
      "48    ---AAGACT---\n",
      "51    ---GAGACT---\n",
      "56    ---CACACA---\n",
      "59    -----GACTGA-\n",
      "Name: 0, dtype: object\n",
      "class:6 score:0.33793\n",
      "82     --TTAAAC----\n",
      "83     --TTAAAC----\n",
      "84     --TTAACC----\n",
      "94     ---CAAAGA---\n",
      "95     ----AAAAAG--\n",
      "96     ----AAAAAG--\n",
      "97     ---TAAAAA---\n",
      "98     ---TAAACA---\n",
      "99     ---TAAACA---\n",
      "100    ---TAAACA---\n",
      "147    -----ACCACC-\n",
      "Name: 0, dtype: object\n",
      "class:7 score:0.13233\n",
      "85    --TTTAAC----\n",
      "86    -GTTTAA-----\n",
      "87    ---TTAACA---\n",
      "89    ----TAATAT--\n",
      "91    ----TAATAC--\n",
      "Name: 0, dtype: object\n",
      "class:8 score:0.30680\n",
      "101    ---AAAACA---\n",
      "102    ---AAAACA---\n",
      "103    ---AAAACA---\n",
      "104    --TAAAAC----\n",
      "105    --TAAAAC----\n",
      "108    ---AAAACC---\n",
      "109    ---AAAACC---\n",
      "110    ---AAAACC---\n",
      "111    ----AAACCG--\n",
      "112    ---GAAACC---\n",
      "116    -----AACCAA-\n",
      "117    ----GAACCA--\n",
      "120    ---TGAACC---\n",
      "125    ---GGAACC---\n",
      "131    -----AACCTT-\n",
      "132    ----GAACCT--\n",
      "Name: 0, dtype: object\n",
      "class:9 score:0.22842\n",
      "107    ---GAAACT---\n",
      "126    ---GGAACT---\n",
      "127    ----AAACTT--\n",
      "128    ----AAACTT--\n",
      "133    ---CAAACT---\n",
      "134    ---CAAACT---\n",
      "135    --GCAAAC----\n",
      "138    ----AAACTG--\n",
      "139    ----AAACTG--\n",
      "Name: 0, dtype: object\n",
      "class:10 score:0.30907\n",
      "118    ----AAACAA--\n",
      "119    ----GAACAA--\n",
      "121    --TTGAAC----\n",
      "122    ---AGAACA---\n",
      "123    ---AGAACA---\n",
      "124    ---TGAACA---\n",
      "Name: 0, dtype: object\n"
     ]
    }
   ],
   "source": [
    "seqs_dict = {}\n",
    "scores_dict = {}\n",
    "for i in np.unique(clustering.labels_):\n",
    "    if i != -1:\n",
    "        class_seqs = seqs[clustering.labels_==i]\n",
    "        class_scores = scores[clustering.labels_==i]\n",
    "        avg_scores = np.sum(class_scores) / len(class_seqs)\n",
    "        seqs_dict[i] = list(class_seqs)\n",
    "        scores_dict[i] = avg_scores\n",
    "        print('class:%d score:%.5f'%(i,avg_scores))\n",
    "        print(class_seqs)"
   ]
  },
  {
   "cell_type": "code",
   "execution_count": 83,
   "metadata": {},
   "outputs": [
    {
     "data": {
      "text/plain": [
       "[2, 1, 6, 0, 10, 8, 3, 5, 4, 9, 7]"
      ]
     },
     "execution_count": 83,
     "metadata": {},
     "output_type": "execute_result"
    }
   ],
   "source": [
    "sorted(scores_dict,key=scores_dict.__getitem__,reverse=True)"
   ]
  },
  {
   "cell_type": "code",
   "execution_count": null,
   "metadata": {},
   "outputs": [],
   "source": []
  }
 ],
 "metadata": {
  "kernelspec": {
   "display_name": "Python 3",
   "language": "python",
   "name": "python3"
  },
  "language_info": {
   "codemirror_mode": {
    "name": "ipython",
    "version": 3
   },
   "file_extension": ".py",
   "mimetype": "text/x-python",
   "name": "python",
   "nbconvert_exporter": "python",
   "pygments_lexer": "ipython3",
   "version": "3.6.12"
  }
 },
 "nbformat": 4,
 "nbformat_minor": 4
}
