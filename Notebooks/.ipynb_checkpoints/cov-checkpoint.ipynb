{
 "cells": [
  {
   "cell_type": "code",
   "execution_count": 1,
   "metadata": {},
   "outputs": [],
   "source": [
    "from models import model_v3"
   ]
  },
  {
   "cell_type": "code",
   "execution_count": 2,
   "metadata": {},
   "outputs": [],
   "source": [
    "import torch\n",
    "import numpy as np\n",
    "import pandas as pd\n",
    "from scipy import stats"
   ]
  },
  {
   "cell_type": "code",
   "execution_count": 3,
   "metadata": {},
   "outputs": [],
   "source": [
    "RMs = ['Am','Cm','Gm','Um','m$^1$A','m$^5$C','m$^5$U','m$^6$A','m$^6$Am','m$^7$G','$\\Psi$','AtoI']"
   ]
  },
  {
   "cell_type": "code",
   "execution_count": 4,
   "metadata": {},
   "outputs": [],
   "source": [
    "model = model_v3(num_task=12,use_embedding=True).cuda()"
   ]
  },
  {
   "cell_type": "code",
   "execution_count": 5,
   "metadata": {},
   "outputs": [],
   "source": [
    "model.load_state_dict(torch.load('./model_weights/trained_model_51seqs.pkl'))"
   ]
  },
  {
   "cell_type": "code",
   "execution_count": 6,
   "metadata": {},
   "outputs": [],
   "source": [
    "candidate = model.state_dict()['Attention.V.weight'].cpu().numpy()"
   ]
  },
  {
   "cell_type": "code",
   "execution_count": 7,
   "metadata": {},
   "outputs": [
    {
     "data": {
      "text/plain": [
       "(12, 100)"
      ]
     },
     "execution_count": 7,
     "metadata": {},
     "output_type": "execute_result"
    }
   ],
   "source": [
    "candidate.shape"
   ]
  },
  {
   "cell_type": "code",
   "execution_count": 11,
   "metadata": {},
   "outputs": [],
   "source": [
    "pd.DataFrame(data=candidate,index=RMs).to_csv('12vectors.csv')"
   ]
  },
  {
   "cell_type": "code",
   "execution_count": 22,
   "metadata": {},
   "outputs": [],
   "source": [
    "p_value = np.zeros((12,12))\n",
    "corr = np.zeros((12,12))\n",
    "for i in range(12):\n",
    "    for j in range(12):\n",
    "        p, c = stats.pearsonr(candidate[i],candidate[j])\n",
    "        p_value[i,j] = p\n",
    "        corr[i,j] = c"
   ]
  },
  {
   "cell_type": "code",
   "execution_count": 16,
   "metadata": {},
   "outputs": [
    {
     "data": {
      "text/plain": [
       "array([[0.00000000e+00, 3.22382225e-07, 6.16325810e-11, 1.33886732e-10,\n",
       "        2.54783276e-16, 7.62283441e-11, 8.74951537e-11, 1.35171098e-07,\n",
       "        3.41093488e-09, 7.76890402e-07, 1.25352322e-11, 6.77007553e-18],\n",
       "       [3.22382225e-07, 0.00000000e+00, 1.49242613e-15, 3.78245594e-15,\n",
       "        1.10976873e-07, 1.43631411e-29, 3.56915829e-20, 1.47452125e-04,\n",
       "        2.85913551e-13, 2.66890390e-10, 3.36570686e-18, 4.91533858e-10],\n",
       "       [6.16325810e-11, 1.49242613e-15, 0.00000000e+00, 5.13913496e-18,\n",
       "        4.80661159e-09, 1.72719992e-14, 6.22141594e-19, 9.24565039e-07,\n",
       "        4.16603513e-15, 1.65624364e-13, 5.53710569e-16, 4.51124195e-13],\n",
       "       [1.33886732e-10, 3.78245594e-15, 5.13913496e-18, 0.00000000e+00,\n",
       "        5.45768205e-12, 4.64722066e-17, 6.92815696e-30, 1.82009417e-07,\n",
       "        9.98471863e-17, 6.43787572e-09, 1.01808435e-29, 2.21879881e-13],\n",
       "       [2.54783276e-16, 1.10976873e-07, 4.80661159e-09, 5.45768205e-12,\n",
       "        0.00000000e+00, 9.22118301e-09, 3.79047615e-12, 4.13836098e-06,\n",
       "        4.37003123e-11, 4.71530660e-11, 3.27589503e-12, 4.19837840e-36],\n",
       "       [7.62283441e-11, 1.43631411e-29, 1.72719992e-14, 4.64722066e-17,\n",
       "        9.22118301e-09, 0.00000000e+00, 8.52388011e-20, 3.26500757e-04,\n",
       "        6.33051974e-13, 2.29419261e-12, 7.44999543e-16, 1.02780313e-10],\n",
       "       [8.74951537e-11, 3.56915829e-20, 6.22141594e-19, 6.92815696e-30,\n",
       "        3.79047615e-12, 8.52388011e-20, 0.00000000e+00, 2.42236166e-09,\n",
       "        1.67956754e-21, 1.40582052e-09, 9.65401639e-37, 1.38547597e-15],\n",
       "       [1.35171098e-07, 1.47452125e-04, 9.24565039e-07, 1.82009417e-07,\n",
       "        4.13836098e-06, 3.26500757e-04, 2.42236166e-09, 0.00000000e+00,\n",
       "        2.68027711e-08, 4.10764791e-05, 1.94963004e-08, 2.21360312e-07],\n",
       "       [3.41093488e-09, 2.85913551e-13, 4.16603513e-15, 9.98471863e-17,\n",
       "        4.37003123e-11, 6.33051974e-13, 1.67956754e-21, 2.68027711e-08,\n",
       "        0.00000000e+00, 1.83905685e-12, 3.10308415e-19, 1.63608571e-13],\n",
       "       [7.76890402e-07, 2.66890390e-10, 1.65624364e-13, 6.43787572e-09,\n",
       "        4.71530660e-11, 2.29419261e-12, 1.40582052e-09, 4.10764791e-05,\n",
       "        1.83905685e-12, 0.00000000e+00, 4.38322092e-08, 3.08041870e-12],\n",
       "       [1.25352322e-11, 3.36570686e-18, 5.53710569e-16, 1.01808435e-29,\n",
       "        3.27589503e-12, 7.44999543e-16, 9.65401639e-37, 1.94963004e-08,\n",
       "        3.10308415e-19, 4.38322092e-08, 0.00000000e+00, 1.83449110e-15],\n",
       "       [6.77007553e-18, 4.91533858e-10, 4.51124195e-13, 2.21879881e-13,\n",
       "        4.19837840e-36, 1.02780313e-10, 1.38547597e-15, 2.21360312e-07,\n",
       "        1.63608571e-13, 3.08041870e-12, 1.83449110e-15, 0.00000000e+00]])"
      ]
     },
     "execution_count": 16,
     "metadata": {},
     "output_type": "execute_result"
    }
   ],
   "source": [
    "corr"
   ]
  },
  {
   "cell_type": "code",
   "execution_count": 10,
   "metadata": {},
   "outputs": [],
   "source": [
    "pd.DataFrame(data=covar,index=RMs,columns=RMs).to_csv('covar.csv')"
   ]
  },
  {
   "cell_type": "code",
   "execution_count": 18,
   "metadata": {},
   "outputs": [],
   "source": [
    "import seaborn as sns"
   ]
  },
  {
   "cell_type": "code",
   "execution_count": 19,
   "metadata": {},
   "outputs": [],
   "source": [
    "import matplotlib.pyplot as plt"
   ]
  },
  {
   "cell_type": "code",
   "execution_count": 46,
   "metadata": {},
   "outputs": [],
   "source": [
    "from matplotlib import rcParams\n",
    "rcParams['font.family'] = 'serif'"
   ]
  },
  {
   "cell_type": "code",
   "execution_count": 20,
   "metadata": {},
   "outputs": [
    {
     "data": {
      "text/plain": [
       "<matplotlib.axes._subplots.AxesSubplot at 0x1852cbf94c8>"
      ]
     },
     "execution_count": 20,
     "metadata": {},
     "output_type": "execute_result"
    },
    {
     "data": {
      "image/png": "[encoded data removed]",
      "text/plain": [
       "<Figure size 432x288 with 2 Axes>"
      ]
     },
     "metadata": {
      "needs_background": "light"
     },
     "output_type": "display_data"
    }
   ],
   "source": [
    "sns.heatmap(corr)"
   ]
  },
  {
   "cell_type": "code",
   "execution_count": 24,
   "metadata": {},
   "outputs": [
    {
     "data": {
      "text/plain": [
       "[Text(0, 0.5, 'Am'),\n",
       " Text(0, 1.5, 'Cm'),\n",
       " Text(0, 2.5, 'Gm'),\n",
       " Text(0, 3.5, 'Um'),\n",
       " Text(0, 4.5, 'm$^1$A'),\n",
       " Text(0, 5.5, 'm$^5$C'),\n",
       " Text(0, 6.5, 'm$^5$U'),\n",
       " Text(0, 7.5, 'm$^6$A'),\n",
       " Text(0, 8.5, 'm$^6$Am'),\n",
       " Text(0, 9.5, 'm$^7$G'),\n",
       " Text(0, 10.5, '$\\\\Psi$'),\n",
       " Text(0, 11.5, 'AtoI')]"
      ]
     },
     "execution_count": 24,
     "metadata": {},
     "output_type": "execute_result"
    },
    {
     "data": {
      "image/png": "[encoded data removed]",
      "text/plain": [
       "<Figure size 504x360 with 2 Axes>"
      ]
     },
     "metadata": {
      "needs_background": "light"
     },
     "output_type": "display_data"
    }
   ],
   "source": [
    "f, ax = plt.subplots(figsize=(7,5))\n",
    "ax = sns.heatmap(corr)\n",
    "ax.set_xticklabels(RMs,rotation=40)\n",
    "ax.set_yticklabels(RMs,rotation=0)"
   ]
  },
  {
   "cell_type": "code",
   "execution_count": 21,
   "metadata": {},
   "outputs": [],
   "source": [
    "mask = np.zeros_like(corr)"
   ]
  },
  {
   "cell_type": "code",
   "execution_count": 22,
   "metadata": {},
   "outputs": [],
   "source": [
    "mask[np.triu_indices_from(mask)] = True"
   ]
  },
  {
   "cell_type": "code",
   "execution_count": 48,
   "metadata": {},
   "outputs": [
    {
     "data": {
      "image/png": "[encoded data removed]",
      "text/plain": [
       "<Figure size 504x360 with 2 Axes>"
      ]
     },
     "metadata": {},
     "output_type": "display_data"
    }
   ],
   "source": [
    "with sns.axes_style('white'):\n",
    "    f, ax = plt.subplots(figsize=(7,5))\n",
    "    ax = sns.heatmap(covar,mask=mask,linewidths=.5,cmap=\"YlGnBu\")\n",
    "    ax.set_xticklabels(RMs,rotation=40)\n",
    "    ax.set_yticklabels(RMs,rotation=0)\n",
    "    f.savefig('covariance.pdf')"
   ]
  },
  {
   "cell_type": "code",
   "execution_count": null,
   "metadata": {},
   "outputs": [],
   "source": []
  }
 ],
 "metadata": {
  "kernelspec": {
   "display_name": "Python 3",
   "language": "python",
   "name": "python3"
  },
  "language_info": {
   "codemirror_mode": {
    "name": "ipython",
    "version": 3
   },
   "file_extension": ".py",
   "mimetype": "text/x-python",
   "name": "python",
   "nbconvert_exporter": "python",
   "pygments_lexer": "ipython3",
   "version": "3.6.12"
  }
 },
 "nbformat": 4,
 "nbformat_minor": 4
}
